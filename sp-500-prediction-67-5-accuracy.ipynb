{
 "cells": [
  {
   "cell_type": "code",
   "execution_count": 49,
   "id": "a14c2d9a",
   "metadata": {
    "_cell_guid": "b1076dfc-b9ad-4769-8c92-a6c4dae69d19",
    "_kg_hide-input": true,
    "_uuid": "8f2839f25d086af736a60e9eeb907d3b93b6e0e5",
    "execution": {
     "iopub.execute_input": "2022-08-09T15:40:52.493744Z",
     "iopub.status.busy": "2022-08-09T15:40:52.493102Z",
     "iopub.status.idle": "2022-08-09T15:41:01.738368Z",
     "shell.execute_reply": "2022-08-09T15:41:01.736737Z"
    },
    "papermill": {
     "duration": 9.267245,
     "end_time": "2022-08-09T15:41:01.741590",
     "exception": false,
     "start_time": "2022-08-09T15:40:52.474345",
     "status": "completed"
    },
    "tags": []
   },
   "outputs": [],
   "source": [
    "import numpy as np\n",
    "import pandas as pd\n",
    "import seaborn as sns\n",
    "import matplotlib.pyplot as plt\n",
    "%matplotlib inline\n",
    "\n",
    "from sklearn.model_selection import train_test_split, StratifiedKFold, cross_val_score\n",
    "from sklearn.svm import SVC\n",
    "from sklearn.ensemble import RandomForestClassifier\n",
    "from sklearn.ensemble import AdaBoostClassifier\n",
    "from sklearn.neighbors import KNeighborsClassifier\n",
    "from sklearn.naive_bayes import GaussianNB\n",
    "from xgboost import XGBClassifier\n",
    "from sklearn.linear_model import LogisticRegression\n",
    "from sklearn.linear_model import Perceptron\n",
    "\n",
    "from tensorflow import keras\n",
    "from tensorflow.keras import layers"
   ]
  },
  {
   "attachments": {},
   "cell_type": "markdown",
   "id": "68a30e3b",
   "metadata": {
    "papermill": {
     "duration": 0.012135,
     "end_time": "2022-08-09T15:41:01.767613",
     "exception": false,
     "start_time": "2022-08-09T15:41:01.755478",
     "status": "completed"
    },
    "tags": []
   },
   "source": [
    "# <center> SP500 prediction 10 Models📈 </center>\n",
    "## <center>If you find this notebook useful, support with an upvote👍</center>\n",
    "##### I have a finance degree and am new to machine learning, in this notebook I put two and two together.\n",
    "* ##### The most common predictors of stock performance are value and momentum indicators.\n",
    "* ##### The value indicators are common financial ratio's such as P/E or Dividend yield.\n",
    "* ##### For momentum I take the trailing 3, 6, and 12 month returns of the stock.\n",
    "* ##### The target is the 1 month performance following the momentum periods.\n",
    "* ##### I will try a combination of value and momentum and both approaches seperate.\n",
    "* ##### I apply various models to compare performance\n",
    "\n"
   ]
  },
  {
   "cell_type": "code",
   "execution_count": 50,
   "id": "987f0543",
   "metadata": {
    "execution": {
     "iopub.execute_input": "2022-08-09T15:41:01.796511Z",
     "iopub.status.busy": "2022-08-09T15:41:01.795275Z",
     "iopub.status.idle": "2022-08-09T15:41:01.850347Z",
     "shell.execute_reply": "2022-08-09T15:41:01.848960Z"
    },
    "papermill": {
     "duration": 0.071951,
     "end_time": "2022-08-09T15:41:01.853222",
     "exception": false,
     "start_time": "2022-08-09T15:41:01.781271",
     "status": "completed"
    },
    "tags": []
   },
   "outputs": [
    {
     "data": {
      "text/html": [
       "<div>\n",
       "<style scoped>\n",
       "    .dataframe tbody tr th:only-of-type {\n",
       "        vertical-align: middle;\n",
       "    }\n",
       "\n",
       "    .dataframe tbody tr th {\n",
       "        vertical-align: top;\n",
       "    }\n",
       "\n",
       "    .dataframe thead th {\n",
       "        text-align: right;\n",
       "    }\n",
       "</style>\n",
       "<table border=\"1\" class=\"dataframe\">\n",
       "  <thead>\n",
       "    <tr style=\"text-align: right;\">\n",
       "      <th></th>\n",
       "      <th>Symbol</th>\n",
       "      <th>Name</th>\n",
       "      <th>Sector</th>\n",
       "      <th>Price</th>\n",
       "      <th>Price/Earnings</th>\n",
       "      <th>Dividend Yield</th>\n",
       "      <th>Earnings/Share</th>\n",
       "      <th>52 Week Low</th>\n",
       "      <th>52 Week High</th>\n",
       "      <th>Market Cap</th>\n",
       "      <th>EBITDA</th>\n",
       "      <th>Price/Sales</th>\n",
       "      <th>Price/Book</th>\n",
       "      <th>SEC Filings</th>\n",
       "    </tr>\n",
       "  </thead>\n",
       "  <tbody>\n",
       "    <tr>\n",
       "      <th>0</th>\n",
       "      <td>MMM</td>\n",
       "      <td>3M Company</td>\n",
       "      <td>Industrials</td>\n",
       "      <td>222.89</td>\n",
       "      <td>24.31</td>\n",
       "      <td>2.332862</td>\n",
       "      <td>7.92</td>\n",
       "      <td>259.77</td>\n",
       "      <td>175.490</td>\n",
       "      <td>1.387211e+11</td>\n",
       "      <td>9.048000e+09</td>\n",
       "      <td>4.390271</td>\n",
       "      <td>11.34</td>\n",
       "      <td>http://www.sec.gov/cgi-bin/browse-edgar?action...</td>\n",
       "    </tr>\n",
       "    <tr>\n",
       "      <th>1</th>\n",
       "      <td>AOS</td>\n",
       "      <td>A.O. Smith Corp</td>\n",
       "      <td>Industrials</td>\n",
       "      <td>60.24</td>\n",
       "      <td>27.76</td>\n",
       "      <td>1.147959</td>\n",
       "      <td>1.70</td>\n",
       "      <td>68.39</td>\n",
       "      <td>48.925</td>\n",
       "      <td>1.078342e+10</td>\n",
       "      <td>6.010000e+08</td>\n",
       "      <td>3.575483</td>\n",
       "      <td>6.35</td>\n",
       "      <td>http://www.sec.gov/cgi-bin/browse-edgar?action...</td>\n",
       "    </tr>\n",
       "    <tr>\n",
       "      <th>2</th>\n",
       "      <td>ABT</td>\n",
       "      <td>Abbott Laboratories</td>\n",
       "      <td>Health Care</td>\n",
       "      <td>56.27</td>\n",
       "      <td>22.51</td>\n",
       "      <td>1.908982</td>\n",
       "      <td>0.26</td>\n",
       "      <td>64.60</td>\n",
       "      <td>42.280</td>\n",
       "      <td>1.021210e+11</td>\n",
       "      <td>5.744000e+09</td>\n",
       "      <td>3.740480</td>\n",
       "      <td>3.19</td>\n",
       "      <td>http://www.sec.gov/cgi-bin/browse-edgar?action...</td>\n",
       "    </tr>\n",
       "    <tr>\n",
       "      <th>3</th>\n",
       "      <td>ABBV</td>\n",
       "      <td>AbbVie Inc.</td>\n",
       "      <td>Health Care</td>\n",
       "      <td>108.48</td>\n",
       "      <td>19.41</td>\n",
       "      <td>2.499560</td>\n",
       "      <td>3.29</td>\n",
       "      <td>125.86</td>\n",
       "      <td>60.050</td>\n",
       "      <td>1.813863e+11</td>\n",
       "      <td>1.031000e+10</td>\n",
       "      <td>6.291571</td>\n",
       "      <td>26.14</td>\n",
       "      <td>http://www.sec.gov/cgi-bin/browse-edgar?action...</td>\n",
       "    </tr>\n",
       "    <tr>\n",
       "      <th>4</th>\n",
       "      <td>ACN</td>\n",
       "      <td>Accenture plc</td>\n",
       "      <td>Information Technology</td>\n",
       "      <td>150.51</td>\n",
       "      <td>25.47</td>\n",
       "      <td>1.714470</td>\n",
       "      <td>5.44</td>\n",
       "      <td>162.60</td>\n",
       "      <td>114.820</td>\n",
       "      <td>9.876586e+10</td>\n",
       "      <td>5.643228e+09</td>\n",
       "      <td>2.604117</td>\n",
       "      <td>10.62</td>\n",
       "      <td>http://www.sec.gov/cgi-bin/browse-edgar?action...</td>\n",
       "    </tr>\n",
       "  </tbody>\n",
       "</table>\n",
       "</div>"
      ],
      "text/plain": [
       "  Symbol                 Name                  Sector   Price  Price/Earnings   \n",
       "0    MMM           3M Company             Industrials  222.89           24.31  \\\n",
       "1    AOS      A.O. Smith Corp             Industrials   60.24           27.76   \n",
       "2    ABT  Abbott Laboratories             Health Care   56.27           22.51   \n",
       "3   ABBV          AbbVie Inc.             Health Care  108.48           19.41   \n",
       "4    ACN        Accenture plc  Information Technology  150.51           25.47   \n",
       "\n",
       "   Dividend Yield  Earnings/Share  52 Week Low  52 Week High    Market Cap   \n",
       "0        2.332862            7.92       259.77       175.490  1.387211e+11  \\\n",
       "1        1.147959            1.70        68.39        48.925  1.078342e+10   \n",
       "2        1.908982            0.26        64.60        42.280  1.021210e+11   \n",
       "3        2.499560            3.29       125.86        60.050  1.813863e+11   \n",
       "4        1.714470            5.44       162.60       114.820  9.876586e+10   \n",
       "\n",
       "         EBITDA  Price/Sales  Price/Book   \n",
       "0  9.048000e+09     4.390271       11.34  \\\n",
       "1  6.010000e+08     3.575483        6.35   \n",
       "2  5.744000e+09     3.740480        3.19   \n",
       "3  1.031000e+10     6.291571       26.14   \n",
       "4  5.643228e+09     2.604117       10.62   \n",
       "\n",
       "                                         SEC Filings  \n",
       "0  http://www.sec.gov/cgi-bin/browse-edgar?action...  \n",
       "1  http://www.sec.gov/cgi-bin/browse-edgar?action...  \n",
       "2  http://www.sec.gov/cgi-bin/browse-edgar?action...  \n",
       "3  http://www.sec.gov/cgi-bin/browse-edgar?action...  \n",
       "4  http://www.sec.gov/cgi-bin/browse-edgar?action...  "
      ]
     },
     "execution_count": 50,
     "metadata": {},
     "output_type": "execute_result"
    }
   ],
   "source": [
    "fin = pd.read_csv(\"C:\\\\Users\\\\DELL\\\\data sets\\\\data set-1\\\\financials.csv\")\n",
    "fin.head()"
   ]
  },
  {
   "cell_type": "code",
   "execution_count": 51,
   "id": "1ab3408d",
   "metadata": {
    "execution": {
     "iopub.execute_input": "2022-08-09T15:41:01.883707Z",
     "iopub.status.busy": "2022-08-09T15:41:01.882554Z",
     "iopub.status.idle": "2022-08-09T15:41:01.892136Z",
     "shell.execute_reply": "2022-08-09T15:41:01.891132Z"
    },
    "papermill": {
     "duration": 0.026972,
     "end_time": "2022-08-09T15:41:01.894614",
     "exception": false,
     "start_time": "2022-08-09T15:41:01.867642",
     "status": "completed"
    },
    "tags": []
   },
   "outputs": [
    {
     "data": {
      "text/plain": [
       "Symbol            0\n",
       "Name              0\n",
       "Sector            0\n",
       "Price             0\n",
       "Price/Earnings    2\n",
       "Dividend Yield    0\n",
       "Earnings/Share    0\n",
       "52 Week Low       0\n",
       "52 Week High      0\n",
       "Market Cap        0\n",
       "EBITDA            0\n",
       "Price/Sales       0\n",
       "Price/Book        8\n",
       "SEC Filings       0\n",
       "dtype: int64"
      ]
     },
     "execution_count": 51,
     "metadata": {},
     "output_type": "execute_result"
    }
   ],
   "source": [
    "fin.isna().sum()"
   ]
  },
  {
   "cell_type": "code",
   "execution_count": 52,
   "id": "0d2c9ebf",
   "metadata": {
    "execution": {
     "iopub.execute_input": "2022-08-09T15:41:01.923640Z",
     "iopub.status.busy": "2022-08-09T15:41:01.922890Z",
     "iopub.status.idle": "2022-08-09T15:41:01.928516Z",
     "shell.execute_reply": "2022-08-09T15:41:01.927501Z"
    },
    "papermill": {
     "duration": 0.023095,
     "end_time": "2022-08-09T15:41:01.931158",
     "exception": false,
     "start_time": "2022-08-09T15:41:01.908063",
     "status": "completed"
    },
    "tags": []
   },
   "outputs": [],
   "source": [
    "fin = fin.fillna(0)"
   ]
  },
  {
   "cell_type": "code",
   "execution_count": 53,
   "id": "de2b7103",
   "metadata": {
    "execution": {
     "iopub.execute_input": "2022-08-09T15:41:01.959908Z",
     "iopub.status.busy": "2022-08-09T15:41:01.959077Z",
     "iopub.status.idle": "2022-08-09T15:41:01.970814Z",
     "shell.execute_reply": "2022-08-09T15:41:01.969937Z"
    },
    "papermill": {
     "duration": 0.029164,
     "end_time": "2022-08-09T15:41:01.973427",
     "exception": false,
     "start_time": "2022-08-09T15:41:01.944263",
     "status": "completed"
    },
    "tags": []
   },
   "outputs": [],
   "source": [
    "fin = fin.assign(HighLow=lambda x: (x['52 Week Low'] - x['52 Week High']) / x['Price'])"
   ]
  },
  {
   "cell_type": "code",
   "execution_count": 54,
   "id": "e7020c41",
   "metadata": {
    "execution": {
     "iopub.execute_input": "2022-08-09T15:41:02.003115Z",
     "iopub.status.busy": "2022-08-09T15:41:02.002211Z",
     "iopub.status.idle": "2022-08-09T15:41:02.042185Z",
     "shell.execute_reply": "2022-08-09T15:41:02.040971Z"
    },
    "papermill": {
     "duration": 0.058242,
     "end_time": "2022-08-09T15:41:02.044825",
     "exception": false,
     "start_time": "2022-08-09T15:41:01.986583",
     "status": "completed"
    },
    "tags": []
   },
   "outputs": [
    {
     "data": {
      "text/html": [
       "<div>\n",
       "<style scoped>\n",
       "    .dataframe tbody tr th:only-of-type {\n",
       "        vertical-align: middle;\n",
       "    }\n",
       "\n",
       "    .dataframe tbody tr th {\n",
       "        vertical-align: top;\n",
       "    }\n",
       "\n",
       "    .dataframe thead th {\n",
       "        text-align: right;\n",
       "    }\n",
       "</style>\n",
       "<table border=\"1\" class=\"dataframe\">\n",
       "  <thead>\n",
       "    <tr style=\"text-align: right;\">\n",
       "      <th></th>\n",
       "      <th>Symbol</th>\n",
       "      <th>Price/Earnings</th>\n",
       "      <th>Dividend Yield</th>\n",
       "      <th>Earnings/Share</th>\n",
       "      <th>Market Cap</th>\n",
       "      <th>EBITDA</th>\n",
       "      <th>Price/Sales</th>\n",
       "      <th>Price/Book</th>\n",
       "      <th>HighLow</th>\n",
       "    </tr>\n",
       "  </thead>\n",
       "  <tbody>\n",
       "    <tr>\n",
       "      <th>0</th>\n",
       "      <td>MMM</td>\n",
       "      <td>24.31</td>\n",
       "      <td>2.332862</td>\n",
       "      <td>7.92</td>\n",
       "      <td>1.387211e+11</td>\n",
       "      <td>9.048000e+09</td>\n",
       "      <td>4.390271</td>\n",
       "      <td>11.34</td>\n",
       "      <td>0.378124</td>\n",
       "    </tr>\n",
       "    <tr>\n",
       "      <th>1</th>\n",
       "      <td>AOS</td>\n",
       "      <td>27.76</td>\n",
       "      <td>1.147959</td>\n",
       "      <td>1.70</td>\n",
       "      <td>1.078342e+10</td>\n",
       "      <td>6.010000e+08</td>\n",
       "      <td>3.575483</td>\n",
       "      <td>6.35</td>\n",
       "      <td>0.323124</td>\n",
       "    </tr>\n",
       "    <tr>\n",
       "      <th>2</th>\n",
       "      <td>ABT</td>\n",
       "      <td>22.51</td>\n",
       "      <td>1.908982</td>\n",
       "      <td>0.26</td>\n",
       "      <td>1.021210e+11</td>\n",
       "      <td>5.744000e+09</td>\n",
       "      <td>3.740480</td>\n",
       "      <td>3.19</td>\n",
       "      <td>0.396659</td>\n",
       "    </tr>\n",
       "    <tr>\n",
       "      <th>3</th>\n",
       "      <td>ABBV</td>\n",
       "      <td>19.41</td>\n",
       "      <td>2.499560</td>\n",
       "      <td>3.29</td>\n",
       "      <td>1.813863e+11</td>\n",
       "      <td>1.031000e+10</td>\n",
       "      <td>6.291571</td>\n",
       "      <td>26.14</td>\n",
       "      <td>0.606656</td>\n",
       "    </tr>\n",
       "    <tr>\n",
       "      <th>4</th>\n",
       "      <td>ACN</td>\n",
       "      <td>25.47</td>\n",
       "      <td>1.714470</td>\n",
       "      <td>5.44</td>\n",
       "      <td>9.876586e+10</td>\n",
       "      <td>5.643228e+09</td>\n",
       "      <td>2.604117</td>\n",
       "      <td>10.62</td>\n",
       "      <td>0.317454</td>\n",
       "    </tr>\n",
       "  </tbody>\n",
       "</table>\n",
       "</div>"
      ],
      "text/plain": [
       "  Symbol  Price/Earnings  Dividend Yield  Earnings/Share    Market Cap   \n",
       "0    MMM           24.31        2.332862            7.92  1.387211e+11  \\\n",
       "1    AOS           27.76        1.147959            1.70  1.078342e+10   \n",
       "2    ABT           22.51        1.908982            0.26  1.021210e+11   \n",
       "3   ABBV           19.41        2.499560            3.29  1.813863e+11   \n",
       "4    ACN           25.47        1.714470            5.44  9.876586e+10   \n",
       "\n",
       "         EBITDA  Price/Sales  Price/Book   HighLow  \n",
       "0  9.048000e+09     4.390271       11.34  0.378124  \n",
       "1  6.010000e+08     3.575483        6.35  0.323124  \n",
       "2  5.744000e+09     3.740480        3.19  0.396659  \n",
       "3  1.031000e+10     6.291571       26.14  0.606656  \n",
       "4  5.643228e+09     2.604117       10.62  0.317454  "
      ]
     },
     "execution_count": 54,
     "metadata": {},
     "output_type": "execute_result"
    }
   ],
   "source": [
    "fin = fin.drop(['Name', 'SEC Filings', 'Sector', 'Price', '52 Week Low', '52 Week High'], axis=1)\n",
    "fin.drop(fin[fin[\"Symbol\"]=='OGN'].index, inplace=True)\n",
    "fin.drop(fin[fin[\"Symbol\"]=='AYI'].index, inplace=True)\n",
    "\n",
    "fin.head()"
   ]
  },
  {
   "cell_type": "code",
   "execution_count": 55,
   "id": "6f5db4f6",
   "metadata": {
    "execution": {
     "iopub.execute_input": "2022-08-09T15:41:02.074241Z",
     "iopub.status.busy": "2022-08-09T15:41:02.073859Z",
     "iopub.status.idle": "2022-08-09T15:41:05.700269Z",
     "shell.execute_reply": "2022-08-09T15:41:05.697655Z"
    },
    "papermill": {
     "duration": 3.645971,
     "end_time": "2022-08-09T15:41:05.704315",
     "exception": false,
     "start_time": "2022-08-09T15:41:02.058344",
     "status": "completed"
    },
    "tags": []
   },
   "outputs": [
    {
     "data": {
      "text/html": [
       "<div>\n",
       "<style scoped>\n",
       "    .dataframe tbody tr th:only-of-type {\n",
       "        vertical-align: middle;\n",
       "    }\n",
       "\n",
       "    .dataframe tbody tr th {\n",
       "        vertical-align: top;\n",
       "    }\n",
       "\n",
       "    .dataframe thead th {\n",
       "        text-align: right;\n",
       "    }\n",
       "</style>\n",
       "<table border=\"1\" class=\"dataframe\">\n",
       "  <thead>\n",
       "    <tr style=\"text-align: right;\">\n",
       "      <th></th>\n",
       "      <th>Date</th>\n",
       "      <th>Symbol</th>\n",
       "      <th>Adj Close</th>\n",
       "      <th>Close</th>\n",
       "      <th>High</th>\n",
       "      <th>Low</th>\n",
       "      <th>Open</th>\n",
       "      <th>Volume</th>\n",
       "    </tr>\n",
       "  </thead>\n",
       "  <tbody>\n",
       "    <tr>\n",
       "      <th>0</th>\n",
       "      <td>2009-12-31</td>\n",
       "      <td>MMM</td>\n",
       "      <td>NaN</td>\n",
       "      <td>NaN</td>\n",
       "      <td>NaN</td>\n",
       "      <td>NaN</td>\n",
       "      <td>NaN</td>\n",
       "      <td>NaN</td>\n",
       "    </tr>\n",
       "    <tr>\n",
       "      <th>1</th>\n",
       "      <td>2010-01-04</td>\n",
       "      <td>MMM</td>\n",
       "      <td>59.318886</td>\n",
       "      <td>83.019997</td>\n",
       "      <td>83.449997</td>\n",
       "      <td>82.669998</td>\n",
       "      <td>83.089996</td>\n",
       "      <td>3043700.0</td>\n",
       "    </tr>\n",
       "    <tr>\n",
       "      <th>2</th>\n",
       "      <td>2010-01-05</td>\n",
       "      <td>MMM</td>\n",
       "      <td>58.947342</td>\n",
       "      <td>82.500000</td>\n",
       "      <td>83.230003</td>\n",
       "      <td>81.699997</td>\n",
       "      <td>82.800003</td>\n",
       "      <td>2847000.0</td>\n",
       "    </tr>\n",
       "    <tr>\n",
       "      <th>3</th>\n",
       "      <td>2010-01-06</td>\n",
       "      <td>MMM</td>\n",
       "      <td>59.783295</td>\n",
       "      <td>83.669998</td>\n",
       "      <td>84.599998</td>\n",
       "      <td>83.510002</td>\n",
       "      <td>83.879997</td>\n",
       "      <td>5268500.0</td>\n",
       "    </tr>\n",
       "    <tr>\n",
       "      <th>4</th>\n",
       "      <td>2010-01-07</td>\n",
       "      <td>MMM</td>\n",
       "      <td>59.826176</td>\n",
       "      <td>83.730003</td>\n",
       "      <td>83.760002</td>\n",
       "      <td>82.120003</td>\n",
       "      <td>83.320000</td>\n",
       "      <td>4470100.0</td>\n",
       "    </tr>\n",
       "  </tbody>\n",
       "</table>\n",
       "</div>"
      ],
      "text/plain": [
       "         Date Symbol  Adj Close      Close       High        Low       Open   \n",
       "0  2009-12-31    MMM        NaN        NaN        NaN        NaN        NaN  \\\n",
       "1  2010-01-04    MMM  59.318886  83.019997  83.449997  82.669998  83.089996   \n",
       "2  2010-01-05    MMM  58.947342  82.500000  83.230003  81.699997  82.800003   \n",
       "3  2010-01-06    MMM  59.783295  83.669998  84.599998  83.510002  83.879997   \n",
       "4  2010-01-07    MMM  59.826176  83.730003  83.760002  82.120003  83.320000   \n",
       "\n",
       "      Volume  \n",
       "0        NaN  \n",
       "1  3043700.0  \n",
       "2  2847000.0  \n",
       "3  5268500.0  \n",
       "4  4470100.0  "
      ]
     },
     "execution_count": 55,
     "metadata": {},
     "output_type": "execute_result"
    }
   ],
   "source": [
    "price = pd.read_csv(\"C:\\\\Users\\\\DELL\\\\data sets\\\\data set-1\\\\sp500_stocks.csv.zip\")\n",
    "price.head()"
   ]
  },
  {
   "attachments": {},
   "cell_type": "markdown",
   "id": "53299650",
   "metadata": {
    "papermill": {
     "duration": 0.014502,
     "end_time": "2022-08-09T15:41:05.736699",
     "exception": false,
     "start_time": "2022-08-09T15:41:05.722197",
     "status": "completed"
    },
    "tags": []
   },
   "source": [
    "We will use closing prices and drop the rest"
   ]
  },
  {
   "cell_type": "code",
   "execution_count": 56,
   "id": "bfada1be",
   "metadata": {
    "execution": {
     "iopub.execute_input": "2022-08-09T15:41:05.766058Z",
     "iopub.status.busy": "2022-08-09T15:41:05.764828Z",
     "iopub.status.idle": "2022-08-09T15:41:06.317707Z",
     "shell.execute_reply": "2022-08-09T15:41:06.316411Z"
    },
    "papermill": {
     "duration": 0.570604,
     "end_time": "2022-08-09T15:41:06.320927",
     "exception": false,
     "start_time": "2022-08-09T15:41:05.750323",
     "status": "completed"
    },
    "tags": []
   },
   "outputs": [],
   "source": [
    "price = price.drop(['Adj Close', 'High', 'Low', 'Open', 'Volume'], axis=1)\n",
    "price = price.dropna()\n",
    "price.drop(price[price[\"Symbol\"]=='OGN'].index, inplace=True)"
   ]
  },
  {
   "cell_type": "code",
   "execution_count": 57,
   "id": "6fabb676",
   "metadata": {
    "execution": {
     "iopub.execute_input": "2022-08-09T15:41:06.349623Z",
     "iopub.status.busy": "2022-08-09T15:41:06.349177Z",
     "iopub.status.idle": "2022-08-09T15:41:07.424631Z",
     "shell.execute_reply": "2022-08-09T15:41:07.423403Z"
    },
    "papermill": {
     "duration": 1.093179,
     "end_time": "2022-08-09T15:41:07.427538",
     "exception": false,
     "start_time": "2022-08-09T15:41:06.334359",
     "status": "completed"
    },
    "tags": []
   },
   "outputs": [],
   "source": [
    "price['Date'] = price.Date.str[0:7] + ' ' + price['Symbol']\n",
    "price.drop_duplicates(subset ='Date', keep ='first', inplace =True)"
   ]
  },
  {
   "cell_type": "code",
   "execution_count": 58,
   "id": "01aa166a",
   "metadata": {
    "execution": {
     "iopub.execute_input": "2022-08-09T15:41:07.456732Z",
     "iopub.status.busy": "2022-08-09T15:41:07.456280Z",
     "iopub.status.idle": "2022-08-09T15:41:07.587763Z",
     "shell.execute_reply": "2022-08-09T15:41:07.586421Z"
    },
    "papermill": {
     "duration": 0.149912,
     "end_time": "2022-08-09T15:41:07.590963",
     "exception": false,
     "start_time": "2022-08-09T15:41:07.441051",
     "status": "completed"
    },
    "tags": []
   },
   "outputs": [],
   "source": [
    "price['Year'] = price.Date.str[:4]\n",
    "price['Month'] = price.Date.str[5:7]\n",
    "price = price.drop(['Date'], axis=1)"
   ]
  },
  {
   "cell_type": "code",
   "execution_count": 59,
   "id": "24387863",
   "metadata": {
    "execution": {
     "iopub.execute_input": "2022-08-09T15:41:07.620394Z",
     "iopub.status.busy": "2022-08-09T15:41:07.619963Z",
     "iopub.status.idle": "2022-08-09T15:41:07.641159Z",
     "shell.execute_reply": "2022-08-09T15:41:07.639579Z"
    },
    "papermill": {
     "duration": 0.039692,
     "end_time": "2022-08-09T15:41:07.644037",
     "exception": false,
     "start_time": "2022-08-09T15:41:07.604345",
     "status": "completed"
    },
    "tags": []
   },
   "outputs": [],
   "source": [
    "price = price[(price['Year'] == '2021') | (price['Year'] == '2020')]"
   ]
  },
  {
   "cell_type": "code",
   "execution_count": 60,
   "id": "cfe8068a",
   "metadata": {
    "execution": {
     "iopub.execute_input": "2022-08-09T15:41:07.673159Z",
     "iopub.status.busy": "2022-08-09T15:41:07.672322Z",
     "iopub.status.idle": "2022-08-09T15:41:07.683095Z",
     "shell.execute_reply": "2022-08-09T15:41:07.681917Z"
    },
    "papermill": {
     "duration": 0.028509,
     "end_time": "2022-08-09T15:41:07.685781",
     "exception": false,
     "start_time": "2022-08-09T15:41:07.657272",
     "status": "completed"
    },
    "tags": []
   },
   "outputs": [],
   "source": [
    "price.drop(price[price[\"Symbol\"]=='OGN'].index, inplace=True)"
   ]
  },
  {
   "cell_type": "code",
   "execution_count": 61,
   "id": "b64942db",
   "metadata": {
    "execution": {
     "iopub.execute_input": "2022-08-09T15:41:07.715453Z",
     "iopub.status.busy": "2022-08-09T15:41:07.713955Z",
     "iopub.status.idle": "2022-08-09T15:41:07.722339Z",
     "shell.execute_reply": "2022-08-09T15:41:07.720933Z"
    },
    "papermill": {
     "duration": 0.026005,
     "end_time": "2022-08-09T15:41:07.725079",
     "exception": false,
     "start_time": "2022-08-09T15:41:07.699074",
     "status": "completed"
    },
    "tags": []
   },
   "outputs": [],
   "source": [
    "company = price['Symbol'].unique()"
   ]
  },
  {
   "attachments": {},
   "cell_type": "markdown",
   "id": "ec42dcb3",
   "metadata": {
    "papermill": {
     "duration": 0.012717,
     "end_time": "2022-08-09T15:41:07.751412",
     "exception": false,
     "start_time": "2022-08-09T15:41:07.738695",
     "status": "completed"
    },
    "tags": []
   },
   "source": [
    "# Calculate the various momentum periods and make a new dataframe."
   ]
  },
  {
   "cell_type": "code",
   "execution_count": 62,
   "id": "b9794fb8",
   "metadata": {
    "execution": {
     "iopub.execute_input": "2022-08-09T15:41:07.780280Z",
     "iopub.status.busy": "2022-08-09T15:41:07.779595Z",
     "iopub.status.idle": "2022-08-09T15:41:23.293928Z",
     "shell.execute_reply": "2022-08-09T15:41:23.292673Z"
    },
    "papermill": {
     "duration": 15.531464,
     "end_time": "2022-08-09T15:41:23.296731",
     "exception": false,
     "start_time": "2022-08-09T15:41:07.765267",
     "status": "completed"
    },
    "tags": []
   },
   "outputs": [],
   "source": [
    "monthMove = {}\n",
    "month3Move = {}\n",
    "month6Move = {}\n",
    "month12Move = {}\n",
    "\n",
    "\n",
    "for i in company:\n",
    "    \n",
    "    #\n",
    "    m4 = price[(price['Symbol'] == i) & (price['Year'] == '2021') & (price['Month'] == '08')]\n",
    "    m1 = price[(price['Symbol'] == i) & (price['Year'] == '2021') & (price['Month'] == '11')]\n",
    "\n",
    "    month3Move[i] = []\n",
    "    month3Move[i].append((m1.iloc[0]['Close']) / (m4.iloc[0]['Close']))\n",
    "    \n",
    "    #\n",
    "    m7 = price[(price['Symbol'] == i) & (price['Year'] == '2021') & (price['Month'] == '05')]\n",
    "    m1 = price[(price['Symbol'] == i) & (price['Year'] == '2021') & (price['Month'] == '11')]\n",
    "\n",
    "    month6Move[i] = []\n",
    "    month6Move[i].append((m1.iloc[0]['Close']) / (m7.iloc[0]['Close']))   \n",
    "    \n",
    "    #\n",
    "    m13 = price[(price['Symbol'] == i) & (price['Year'] == '2020') & (price['Month'] == '11')]\n",
    "    m1 = price[(price['Symbol'] == i) & (price['Year'] == '2021') & (price['Month'] == '11')]\n",
    "\n",
    "    month12Move[i] = []\n",
    "    month12Move[i].append((m1.iloc[0]['Close']) / (m13.iloc[0]['Close'])) \n",
    "        \n",
    "    #\n",
    "    curr = price[(price['Symbol'] == i) & (price['Year'] == '2021') & (price['Month'] == '12')]\n",
    "    m1 = price[(price['Symbol'] == i) & (price['Year'] == '2021') & (price['Month'] == '11')]\n",
    "\n",
    "    monthMove[i] = []\n",
    "    monthMove[i].append((m1.iloc[0]['Close']) / (curr.iloc[0]['Close']))"
   ]
  },
  {
   "cell_type": "code",
   "execution_count": 63,
   "id": "45e4f5bf",
   "metadata": {
    "execution": {
     "iopub.execute_input": "2022-08-09T15:41:23.324682Z",
     "iopub.status.busy": "2022-08-09T15:41:23.324286Z",
     "iopub.status.idle": "2022-08-09T15:41:23.336927Z",
     "shell.execute_reply": "2022-08-09T15:41:23.335695Z"
    },
    "papermill": {
     "duration": 0.029324,
     "end_time": "2022-08-09T15:41:23.339237",
     "exception": false,
     "start_time": "2022-08-09T15:41:23.309913",
     "status": "completed"
    },
    "tags": []
   },
   "outputs": [],
   "source": [
    "\n",
    "#\n",
    "dict3 = {}\n",
    "\n",
    "for i in fin['Symbol']:\n",
    "    if i not in month3Move:\n",
    "        pass\n",
    "    else:\n",
    "        dict3[i] = []\n",
    "        dict3[i].append(month3Move[i])\n",
    "\n",
    "#\n",
    "dict6 = {}\n",
    "\n",
    "for i in fin['Symbol']:\n",
    "    if i not in month6Move:\n",
    "        pass\n",
    "    else:\n",
    "        dict6[i] = []\n",
    "        dict6[i].append(month6Move[i])\n",
    "\n",
    "#\n",
    "dict12 = {}\n",
    "\n",
    "for i in fin['Symbol']:\n",
    "    if i not in month12Move:\n",
    "        pass\n",
    "    else:\n",
    "        dict12[i] = []\n",
    "        dict12[i].append(month12Move[i])\n",
    "\n",
    "#       \n",
    "targetdict = {}\n",
    "\n",
    "for i in fin['Symbol']:\n",
    "    if i not in monthMove:\n",
    "        pass\n",
    "    else:\n",
    "        targetdict[i] = []\n",
    "        targetdict[i].append(monthMove[i])\n"
   ]
  },
  {
   "cell_type": "code",
   "execution_count": 64,
   "id": "aef84fd5",
   "metadata": {
    "execution": {
     "iopub.execute_input": "2022-08-09T15:41:23.367579Z",
     "iopub.status.busy": "2022-08-09T15:41:23.367147Z",
     "iopub.status.idle": "2022-08-09T15:41:23.482343Z",
     "shell.execute_reply": "2022-08-09T15:41:23.480973Z"
    },
    "papermill": {
     "duration": 0.132949,
     "end_time": "2022-08-09T15:41:23.485224",
     "exception": false,
     "start_time": "2022-08-09T15:41:23.352275",
     "status": "completed"
    },
    "tags": []
   },
   "outputs": [],
   "source": [
    "for i in fin[\"Symbol\"]:\n",
    "    if i not in targetdict:\n",
    "        fin.drop(fin[fin[\"Symbol\"]==i].index, inplace=True)"
   ]
  },
  {
   "cell_type": "code",
   "execution_count": 65,
   "id": "afe18508",
   "metadata": {
    "execution": {
     "iopub.execute_input": "2022-08-09T15:41:23.514044Z",
     "iopub.status.busy": "2022-08-09T15:41:23.513611Z",
     "iopub.status.idle": "2022-08-09T15:41:23.532324Z",
     "shell.execute_reply": "2022-08-09T15:41:23.531103Z"
    },
    "papermill": {
     "duration": 0.035686,
     "end_time": "2022-08-09T15:41:23.534946",
     "exception": false,
     "start_time": "2022-08-09T15:41:23.499260",
     "status": "completed"
    },
    "tags": []
   },
   "outputs": [],
   "source": [
    "\n",
    "#\n",
    "m3 = pd.DataFrame.from_dict(month3Move, orient='index', columns=['3M Momentum']).reset_index()\n",
    "m3 = m3.rename(columns={'index': 'Symbol'})\n",
    "\n",
    "#\n",
    "m6 = pd.DataFrame.from_dict(month6Move, orient='index', columns=['6M Momentum']).reset_index()\n",
    "m6 = m6.rename(columns={'index': 'Symbol'})\n",
    "\n",
    "#\n",
    "m12 = pd.DataFrame.from_dict(month12Move, orient='index', columns=['12M Momentum']).reset_index()\n",
    "m12 = m12.rename(columns={'index': 'Symbol'})\n",
    "\n",
    "#\n",
    "target = pd.DataFrame.from_dict(targetdict, orient='index', columns=['Target']).reset_index()\n",
    "target = target.rename(columns={'index': 'Symbol'})\n"
   ]
  },
  {
   "cell_type": "code",
   "execution_count": 66,
   "id": "bc2d67b8",
   "metadata": {
    "execution": {
     "iopub.execute_input": "2022-08-09T15:41:23.562638Z",
     "iopub.status.busy": "2022-08-09T15:41:23.562186Z",
     "iopub.status.idle": "2022-08-09T15:41:23.595671Z",
     "shell.execute_reply": "2022-08-09T15:41:23.594726Z"
    },
    "papermill": {
     "duration": 0.050238,
     "end_time": "2022-08-09T15:41:23.598134",
     "exception": false,
     "start_time": "2022-08-09T15:41:23.547896",
     "status": "completed"
    },
    "tags": []
   },
   "outputs": [
    {
     "data": {
      "text/html": [
       "<div>\n",
       "<style scoped>\n",
       "    .dataframe tbody tr th:only-of-type {\n",
       "        vertical-align: middle;\n",
       "    }\n",
       "\n",
       "    .dataframe tbody tr th {\n",
       "        vertical-align: top;\n",
       "    }\n",
       "\n",
       "    .dataframe thead th {\n",
       "        text-align: right;\n",
       "    }\n",
       "</style>\n",
       "<table border=\"1\" class=\"dataframe\">\n",
       "  <thead>\n",
       "    <tr style=\"text-align: right;\">\n",
       "      <th></th>\n",
       "      <th>Symbol</th>\n",
       "      <th>Target</th>\n",
       "      <th>3M Momentum</th>\n",
       "      <th>6M Momentum</th>\n",
       "      <th>12M Momentum</th>\n",
       "    </tr>\n",
       "  </thead>\n",
       "  <tbody>\n",
       "    <tr>\n",
       "      <th>11</th>\n",
       "      <td>A</td>\n",
       "      <td>1.059713</td>\n",
       "      <td>1.026066</td>\n",
       "      <td>1.179218</td>\n",
       "      <td>1.492398</td>\n",
       "    </tr>\n",
       "    <tr>\n",
       "      <th>26</th>\n",
       "      <td>AAL</td>\n",
       "      <td>1.214373</td>\n",
       "      <td>0.985543</td>\n",
       "      <td>0.900683</td>\n",
       "      <td>1.766756</td>\n",
       "    </tr>\n",
       "    <tr>\n",
       "      <th>7</th>\n",
       "      <td>AAP</td>\n",
       "      <td>1.031526</td>\n",
       "      <td>1.058295</td>\n",
       "      <td>1.115179</td>\n",
       "      <td>1.487052</td>\n",
       "    </tr>\n",
       "    <tr>\n",
       "      <th>41</th>\n",
       "      <td>AAPL</td>\n",
       "      <td>0.904048</td>\n",
       "      <td>1.023639</td>\n",
       "      <td>1.123887</td>\n",
       "      <td>1.369495</td>\n",
       "    </tr>\n",
       "    <tr>\n",
       "      <th>3</th>\n",
       "      <td>ABBV</td>\n",
       "      <td>0.990510</td>\n",
       "      <td>0.994456</td>\n",
       "      <td>1.001134</td>\n",
       "      <td>1.300963</td>\n",
       "    </tr>\n",
       "  </tbody>\n",
       "</table>\n",
       "</div>"
      ],
      "text/plain": [
       "   Symbol    Target  3M Momentum  6M Momentum  12M Momentum\n",
       "11      A  1.059713     1.026066     1.179218      1.492398\n",
       "26    AAL  1.214373     0.985543     0.900683      1.766756\n",
       "7     AAP  1.031526     1.058295     1.115179      1.487052\n",
       "41   AAPL  0.904048     1.023639     1.123887      1.369495\n",
       "3    ABBV  0.990510     0.994456     1.001134      1.300963"
      ]
     },
     "execution_count": 66,
     "metadata": {},
     "output_type": "execute_result"
    }
   ],
   "source": [
    "momentum = pd.merge(pd.merge(target,m3, on='Symbol'), m6, on='Symbol')\n",
    "momentum = pd.merge(momentum, m12, on='Symbol')\n",
    "momentum['Target'] = momentum.Target.str[0]\n",
    "\n",
    "momentum.sort_values(by=['Symbol']).head()"
   ]
  },
  {
   "attachments": {},
   "cell_type": "markdown",
   "id": "cee724a6",
   "metadata": {
    "papermill": {
     "duration": 0.012991,
     "end_time": "2022-08-09T15:41:23.624557",
     "exception": false,
     "start_time": "2022-08-09T15:41:23.611566",
     "status": "completed"
    },
    "tags": []
   },
   "source": [
    "Put the dataframes together"
   ]
  },
  {
   "cell_type": "code",
   "execution_count": 67,
   "id": "65848949",
   "metadata": {
    "execution": {
     "iopub.execute_input": "2022-08-09T15:41:23.653010Z",
     "iopub.status.busy": "2022-08-09T15:41:23.652559Z",
     "iopub.status.idle": "2022-08-09T15:41:23.679235Z",
     "shell.execute_reply": "2022-08-09T15:41:23.677992Z"
    },
    "papermill": {
     "duration": 0.044068,
     "end_time": "2022-08-09T15:41:23.682024",
     "exception": false,
     "start_time": "2022-08-09T15:41:23.637956",
     "status": "completed"
    },
    "tags": []
   },
   "outputs": [
    {
     "data": {
      "text/html": [
       "<div>\n",
       "<style scoped>\n",
       "    .dataframe tbody tr th:only-of-type {\n",
       "        vertical-align: middle;\n",
       "    }\n",
       "\n",
       "    .dataframe tbody tr th {\n",
       "        vertical-align: top;\n",
       "    }\n",
       "\n",
       "    .dataframe thead th {\n",
       "        text-align: right;\n",
       "    }\n",
       "</style>\n",
       "<table border=\"1\" class=\"dataframe\">\n",
       "  <thead>\n",
       "    <tr style=\"text-align: right;\">\n",
       "      <th></th>\n",
       "      <th>Symbol</th>\n",
       "      <th>Price/Earnings</th>\n",
       "      <th>Dividend Yield</th>\n",
       "      <th>Earnings/Share</th>\n",
       "      <th>Market Cap</th>\n",
       "      <th>EBITDA</th>\n",
       "      <th>Price/Sales</th>\n",
       "      <th>Price/Book</th>\n",
       "      <th>HighLow</th>\n",
       "      <th>Target</th>\n",
       "      <th>3M Momentum</th>\n",
       "      <th>6M Momentum</th>\n",
       "      <th>12M Momentum</th>\n",
       "    </tr>\n",
       "  </thead>\n",
       "  <tbody>\n",
       "    <tr>\n",
       "      <th>11</th>\n",
       "      <td>A</td>\n",
       "      <td>27.45</td>\n",
       "      <td>0.875698</td>\n",
       "      <td>2.10</td>\n",
       "      <td>2.198461e+10</td>\n",
       "      <td>1.094000e+09</td>\n",
       "      <td>6.493563</td>\n",
       "      <td>4.56</td>\n",
       "      <td>0.396157</td>\n",
       "      <td>1.059713</td>\n",
       "      <td>1.026066</td>\n",
       "      <td>1.179218</td>\n",
       "      <td>1.492398</td>\n",
       "    </tr>\n",
       "    <tr>\n",
       "      <th>26</th>\n",
       "      <td>AAL</td>\n",
       "      <td>9.92</td>\n",
       "      <td>0.778210</td>\n",
       "      <td>3.91</td>\n",
       "      <td>2.459485e+10</td>\n",
       "      <td>5.761000e+09</td>\n",
       "      <td>0.580226</td>\n",
       "      <td>6.03</td>\n",
       "      <td>0.408848</td>\n",
       "      <td>1.214373</td>\n",
       "      <td>0.985543</td>\n",
       "      <td>0.900683</td>\n",
       "      <td>1.766756</td>\n",
       "    </tr>\n",
       "    <tr>\n",
       "      <th>7</th>\n",
       "      <td>AAP</td>\n",
       "      <td>19.54</td>\n",
       "      <td>0.218321</td>\n",
       "      <td>6.19</td>\n",
       "      <td>8.123612e+09</td>\n",
       "      <td>8.539410e+08</td>\n",
       "      <td>1.130106</td>\n",
       "      <td>2.51</td>\n",
       "      <td>0.827693</td>\n",
       "      <td>1.031526</td>\n",
       "      <td>1.058295</td>\n",
       "      <td>1.115179</td>\n",
       "      <td>1.487052</td>\n",
       "    </tr>\n",
       "    <tr>\n",
       "      <th>41</th>\n",
       "      <td>AAPL</td>\n",
       "      <td>16.86</td>\n",
       "      <td>1.579541</td>\n",
       "      <td>9.20</td>\n",
       "      <td>8.095080e+11</td>\n",
       "      <td>7.938600e+10</td>\n",
       "      <td>3.458609</td>\n",
       "      <td>5.66</td>\n",
       "      <td>0.315694</td>\n",
       "      <td>0.904048</td>\n",
       "      <td>1.023639</td>\n",
       "      <td>1.123887</td>\n",
       "      <td>1.369495</td>\n",
       "    </tr>\n",
       "    <tr>\n",
       "      <th>3</th>\n",
       "      <td>ABBV</td>\n",
       "      <td>19.41</td>\n",
       "      <td>2.499560</td>\n",
       "      <td>3.29</td>\n",
       "      <td>1.813863e+11</td>\n",
       "      <td>1.031000e+10</td>\n",
       "      <td>6.291571</td>\n",
       "      <td>26.14</td>\n",
       "      <td>0.606656</td>\n",
       "      <td>0.990510</td>\n",
       "      <td>0.994456</td>\n",
       "      <td>1.001134</td>\n",
       "      <td>1.300963</td>\n",
       "    </tr>\n",
       "  </tbody>\n",
       "</table>\n",
       "</div>"
      ],
      "text/plain": [
       "   Symbol  Price/Earnings  Dividend Yield  Earnings/Share    Market Cap   \n",
       "11      A           27.45        0.875698            2.10  2.198461e+10  \\\n",
       "26    AAL            9.92        0.778210            3.91  2.459485e+10   \n",
       "7     AAP           19.54        0.218321            6.19  8.123612e+09   \n",
       "41   AAPL           16.86        1.579541            9.20  8.095080e+11   \n",
       "3    ABBV           19.41        2.499560            3.29  1.813863e+11   \n",
       "\n",
       "          EBITDA  Price/Sales  Price/Book   HighLow    Target  3M Momentum   \n",
       "11  1.094000e+09     6.493563        4.56  0.396157  1.059713     1.026066  \\\n",
       "26  5.761000e+09     0.580226        6.03  0.408848  1.214373     0.985543   \n",
       "7   8.539410e+08     1.130106        2.51  0.827693  1.031526     1.058295   \n",
       "41  7.938600e+10     3.458609        5.66  0.315694  0.904048     1.023639   \n",
       "3   1.031000e+10     6.291571       26.14  0.606656  0.990510     0.994456   \n",
       "\n",
       "    6M Momentum  12M Momentum  \n",
       "11     1.179218      1.492398  \n",
       "26     0.900683      1.766756  \n",
       "7      1.115179      1.487052  \n",
       "41     1.123887      1.369495  \n",
       "3      1.001134      1.300963  "
      ]
     },
     "execution_count": 67,
     "metadata": {},
     "output_type": "execute_result"
    }
   ],
   "source": [
    "df = pd.merge(fin, momentum, on='Symbol')\n",
    "df = df.sort_values(by=['Symbol'])\n",
    "df.head()"
   ]
  },
  {
   "attachments": {},
   "cell_type": "markdown",
   "id": "8bbf8feb",
   "metadata": {
    "papermill": {
     "duration": 0.013306,
     "end_time": "2022-08-09T15:41:23.709083",
     "exception": false,
     "start_time": "2022-08-09T15:41:23.695777",
     "status": "completed"
    },
    "tags": []
   },
   "source": [
    "* The target will be to predict a stock that will return more than 2% in the next month.\n",
    "* This will equal 25%+ annualized.\n",
    "* This is significantly higher than the index to keep a margin of safety. "
   ]
  },
  {
   "cell_type": "code",
   "execution_count": 68,
   "id": "7e1546ca",
   "metadata": {
    "execution": {
     "iopub.execute_input": "2022-08-09T15:41:23.740163Z",
     "iopub.status.busy": "2022-08-09T15:41:23.739343Z",
     "iopub.status.idle": "2022-08-09T15:41:23.762424Z",
     "shell.execute_reply": "2022-08-09T15:41:23.760915Z"
    },
    "papermill": {
     "duration": 0.041461,
     "end_time": "2022-08-09T15:41:23.764728",
     "exception": false,
     "start_time": "2022-08-09T15:41:23.723267",
     "status": "completed"
    },
    "tags": []
   },
   "outputs": [
    {
     "data": {
      "text/html": [
       "<div>\n",
       "<style scoped>\n",
       "    .dataframe tbody tr th:only-of-type {\n",
       "        vertical-align: middle;\n",
       "    }\n",
       "\n",
       "    .dataframe tbody tr th {\n",
       "        vertical-align: top;\n",
       "    }\n",
       "\n",
       "    .dataframe thead th {\n",
       "        text-align: right;\n",
       "    }\n",
       "</style>\n",
       "<table border=\"1\" class=\"dataframe\">\n",
       "  <thead>\n",
       "    <tr style=\"text-align: right;\">\n",
       "      <th></th>\n",
       "      <th>Symbol</th>\n",
       "      <th>Price/Earnings</th>\n",
       "      <th>Dividend Yield</th>\n",
       "      <th>Earnings/Share</th>\n",
       "      <th>Market Cap</th>\n",
       "      <th>EBITDA</th>\n",
       "      <th>Price/Sales</th>\n",
       "      <th>Price/Book</th>\n",
       "      <th>HighLow</th>\n",
       "      <th>Target</th>\n",
       "      <th>3M Momentum</th>\n",
       "      <th>6M Momentum</th>\n",
       "      <th>12M Momentum</th>\n",
       "    </tr>\n",
       "  </thead>\n",
       "  <tbody>\n",
       "    <tr>\n",
       "      <th>11</th>\n",
       "      <td>A</td>\n",
       "      <td>27.45</td>\n",
       "      <td>0.875698</td>\n",
       "      <td>2.10</td>\n",
       "      <td>2.198461e+10</td>\n",
       "      <td>1.094000e+09</td>\n",
       "      <td>6.493563</td>\n",
       "      <td>4.56</td>\n",
       "      <td>0.396157</td>\n",
       "      <td>1</td>\n",
       "      <td>1.026066</td>\n",
       "      <td>1.179218</td>\n",
       "      <td>1.492398</td>\n",
       "    </tr>\n",
       "    <tr>\n",
       "      <th>26</th>\n",
       "      <td>AAL</td>\n",
       "      <td>9.92</td>\n",
       "      <td>0.778210</td>\n",
       "      <td>3.91</td>\n",
       "      <td>2.459485e+10</td>\n",
       "      <td>5.761000e+09</td>\n",
       "      <td>0.580226</td>\n",
       "      <td>6.03</td>\n",
       "      <td>0.408848</td>\n",
       "      <td>1</td>\n",
       "      <td>0.985543</td>\n",
       "      <td>0.900683</td>\n",
       "      <td>1.766756</td>\n",
       "    </tr>\n",
       "    <tr>\n",
       "      <th>7</th>\n",
       "      <td>AAP</td>\n",
       "      <td>19.54</td>\n",
       "      <td>0.218321</td>\n",
       "      <td>6.19</td>\n",
       "      <td>8.123612e+09</td>\n",
       "      <td>8.539410e+08</td>\n",
       "      <td>1.130106</td>\n",
       "      <td>2.51</td>\n",
       "      <td>0.827693</td>\n",
       "      <td>1</td>\n",
       "      <td>1.058295</td>\n",
       "      <td>1.115179</td>\n",
       "      <td>1.487052</td>\n",
       "    </tr>\n",
       "    <tr>\n",
       "      <th>41</th>\n",
       "      <td>AAPL</td>\n",
       "      <td>16.86</td>\n",
       "      <td>1.579541</td>\n",
       "      <td>9.20</td>\n",
       "      <td>8.095080e+11</td>\n",
       "      <td>7.938600e+10</td>\n",
       "      <td>3.458609</td>\n",
       "      <td>5.66</td>\n",
       "      <td>0.315694</td>\n",
       "      <td>0</td>\n",
       "      <td>1.023639</td>\n",
       "      <td>1.123887</td>\n",
       "      <td>1.369495</td>\n",
       "    </tr>\n",
       "    <tr>\n",
       "      <th>3</th>\n",
       "      <td>ABBV</td>\n",
       "      <td>19.41</td>\n",
       "      <td>2.499560</td>\n",
       "      <td>3.29</td>\n",
       "      <td>1.813863e+11</td>\n",
       "      <td>1.031000e+10</td>\n",
       "      <td>6.291571</td>\n",
       "      <td>26.14</td>\n",
       "      <td>0.606656</td>\n",
       "      <td>0</td>\n",
       "      <td>0.994456</td>\n",
       "      <td>1.001134</td>\n",
       "      <td>1.300963</td>\n",
       "    </tr>\n",
       "  </tbody>\n",
       "</table>\n",
       "</div>"
      ],
      "text/plain": [
       "   Symbol  Price/Earnings  Dividend Yield  Earnings/Share    Market Cap   \n",
       "11      A           27.45        0.875698            2.10  2.198461e+10  \\\n",
       "26    AAL            9.92        0.778210            3.91  2.459485e+10   \n",
       "7     AAP           19.54        0.218321            6.19  8.123612e+09   \n",
       "41   AAPL           16.86        1.579541            9.20  8.095080e+11   \n",
       "3    ABBV           19.41        2.499560            3.29  1.813863e+11   \n",
       "\n",
       "          EBITDA  Price/Sales  Price/Book   HighLow  Target  3M Momentum   \n",
       "11  1.094000e+09     6.493563        4.56  0.396157       1     1.026066  \\\n",
       "26  5.761000e+09     0.580226        6.03  0.408848       1     0.985543   \n",
       "7   8.539410e+08     1.130106        2.51  0.827693       1     1.058295   \n",
       "41  7.938600e+10     3.458609        5.66  0.315694       0     1.023639   \n",
       "3   1.031000e+10     6.291571       26.14  0.606656       0     0.994456   \n",
       "\n",
       "    6M Momentum  12M Momentum  \n",
       "11     1.179218      1.492398  \n",
       "26     0.900683      1.766756  \n",
       "7      1.115179      1.487052  \n",
       "41     1.123887      1.369495  \n",
       "3      1.001134      1.300963  "
      ]
     },
     "execution_count": 68,
     "metadata": {},
     "output_type": "execute_result"
    }
   ],
   "source": [
    "df['Target'] = [0 if x <1.02 else 1 for x in df['Target']]\n",
    "df.head()"
   ]
  },
  {
   "attachments": {},
   "cell_type": "markdown",
   "id": "397879aa",
   "metadata": {
    "papermill": {
     "duration": 0.013449,
     "end_time": "2022-08-09T15:41:23.792231",
     "exception": false,
     "start_time": "2022-08-09T15:41:23.778782",
     "status": "completed"
    },
    "tags": []
   },
   "source": [
    "# Split"
   ]
  },
  {
   "cell_type": "code",
   "execution_count": 69,
   "id": "f890a2f0",
   "metadata": {
    "execution": {
     "iopub.execute_input": "2022-08-09T15:41:23.822050Z",
     "iopub.status.busy": "2022-08-09T15:41:23.821312Z",
     "iopub.status.idle": "2022-08-09T15:41:23.829219Z",
     "shell.execute_reply": "2022-08-09T15:41:23.828202Z"
    },
    "papermill": {
     "duration": 0.025934,
     "end_time": "2022-08-09T15:41:23.831919",
     "exception": false,
     "start_time": "2022-08-09T15:41:23.805985",
     "status": "completed"
    },
    "tags": []
   },
   "outputs": [],
   "source": [
    "X = df.drop(['Target','Symbol'], axis=1)\n",
    "y = df['Target']\n",
    "\n",
    "X_train, X_test, y_train, y_test = train_test_split(X, y, test_size=0.2, random_state=42)"
   ]
  },
  {
   "cell_type": "code",
   "execution_count": 70,
   "id": "d0c91766",
   "metadata": {
    "execution": {
     "iopub.execute_input": "2022-08-09T15:41:23.861998Z",
     "iopub.status.busy": "2022-08-09T15:41:23.861304Z",
     "iopub.status.idle": "2022-08-09T15:41:23.865621Z",
     "shell.execute_reply": "2022-08-09T15:41:23.864718Z"
    },
    "papermill": {
     "duration": 0.021802,
     "end_time": "2022-08-09T15:41:23.867753",
     "exception": false,
     "start_time": "2022-08-09T15:41:23.845951",
     "status": "completed"
    },
    "tags": []
   },
   "outputs": [],
   "source": [
    "from sklearn.metrics import classification_report\n",
    "from sklearn.metrics import accuracy_score"
   ]
  },
  {
   "attachments": {},
   "cell_type": "markdown",
   "id": "d4715d7b",
   "metadata": {
    "papermill": {
     "duration": 0.013664,
     "end_time": "2022-08-09T15:41:23.895285",
     "exception": false,
     "start_time": "2022-08-09T15:41:23.881621",
     "status": "completed"
    },
    "tags": []
   },
   "source": [
    "# Models"
   ]
  },
  {
   "cell_type": "code",
   "execution_count": 71,
   "id": "cfdc5296",
   "metadata": {
    "execution": {
     "iopub.execute_input": "2022-08-09T15:41:23.925334Z",
     "iopub.status.busy": "2022-08-09T15:41:23.924603Z",
     "iopub.status.idle": "2022-08-09T15:41:23.931078Z",
     "shell.execute_reply": "2022-08-09T15:41:23.929696Z"
    },
    "papermill": {
     "duration": 0.02453,
     "end_time": "2022-08-09T15:41:23.933607",
     "exception": false,
     "start_time": "2022-08-09T15:41:23.909077",
     "status": "completed"
    },
    "tags": []
   },
   "outputs": [],
   "source": [
    "models = [SVC(kernel='rbf'),\n",
    "          RandomForestClassifier(criterion='entropy', max_depth=8, n_estimators=100),\n",
    "          AdaBoostClassifier(n_estimators=100, random_state=101),\n",
    "          KNeighborsClassifier(n_neighbors=1),\n",
    "          GaussianNB(),\n",
    "          XGBClassifier(),\n",
    "          LogisticRegression(random_state=0),\n",
    "          Perceptron(tol=1e-3, random_state=0)\n",
    "          ]"
   ]
  },
  {
   "cell_type": "code",
   "execution_count": 72,
   "id": "cd44120a",
   "metadata": {
    "execution": {
     "iopub.execute_input": "2022-08-09T15:41:23.963702Z",
     "iopub.status.busy": "2022-08-09T15:41:23.962920Z",
     "iopub.status.idle": "2022-08-09T15:41:32.486094Z",
     "shell.execute_reply": "2022-08-09T15:41:32.484875Z"
    },
    "papermill": {
     "duration": 8.541249,
     "end_time": "2022-08-09T15:41:32.488874",
     "exception": false,
     "start_time": "2022-08-09T15:41:23.947625",
     "status": "completed"
    },
    "tags": []
   },
   "outputs": [
    {
     "data": {
      "text/html": [
       "<div>\n",
       "<style scoped>\n",
       "    .dataframe tbody tr th:only-of-type {\n",
       "        vertical-align: middle;\n",
       "    }\n",
       "\n",
       "    .dataframe tbody tr th {\n",
       "        vertical-align: top;\n",
       "    }\n",
       "\n",
       "    .dataframe thead th {\n",
       "        text-align: right;\n",
       "    }\n",
       "</style>\n",
       "<table border=\"1\" class=\"dataframe\">\n",
       "  <thead>\n",
       "    <tr style=\"text-align: right;\">\n",
       "      <th></th>\n",
       "      <th>Model</th>\n",
       "      <th>Accuracy</th>\n",
       "    </tr>\n",
       "  </thead>\n",
       "  <tbody>\n",
       "    <tr>\n",
       "      <th>0</th>\n",
       "      <td>SVC</td>\n",
       "      <td>0.652016</td>\n",
       "    </tr>\n",
       "    <tr>\n",
       "      <th>1</th>\n",
       "      <td>RandomForestClassifier</td>\n",
       "      <td>0.664315</td>\n",
       "    </tr>\n",
       "    <tr>\n",
       "      <th>2</th>\n",
       "      <td>ADA</td>\n",
       "      <td>0.579536</td>\n",
       "    </tr>\n",
       "    <tr>\n",
       "      <th>3</th>\n",
       "      <td>KNN</td>\n",
       "      <td>0.548690</td>\n",
       "    </tr>\n",
       "    <tr>\n",
       "      <th>4</th>\n",
       "      <td>GNB</td>\n",
       "      <td>0.623790</td>\n",
       "    </tr>\n",
       "    <tr>\n",
       "      <th>5</th>\n",
       "      <td>XGB</td>\n",
       "      <td>0.605040</td>\n",
       "    </tr>\n",
       "    <tr>\n",
       "      <th>6</th>\n",
       "      <td>LogReg</td>\n",
       "      <td>0.627016</td>\n",
       "    </tr>\n",
       "    <tr>\n",
       "      <th>7</th>\n",
       "      <td>Perceptron</td>\n",
       "      <td>0.570766</td>\n",
       "    </tr>\n",
       "  </tbody>\n",
       "</table>\n",
       "</div>"
      ],
      "text/plain": [
       "                    Model  Accuracy\n",
       "0                     SVC  0.652016\n",
       "1  RandomForestClassifier  0.664315\n",
       "2                     ADA  0.579536\n",
       "3                     KNN  0.548690\n",
       "4                     GNB  0.623790\n",
       "5                     XGB  0.605040\n",
       "6                  LogReg  0.627016\n",
       "7              Perceptron  0.570766"
      ]
     },
     "execution_count": 72,
     "metadata": {},
     "output_type": "execute_result"
    }
   ],
   "source": [
    "accuracy = []\n",
    "\n",
    "for model in models:\n",
    "    cross_val = cross_val_score(model, X_train, y_train, scoring='accuracy',\n",
    "                                cv=StratifiedKFold(10)).mean()\n",
    "    accuracy.append(cross_val)\n",
    "\n",
    "models_name = ['SVC', 'RandomForestClassifier', 'ADA',\n",
    "               'KNN', 'GNB', 'XGB', 'LogReg', 'Perceptron']\n",
    "\n",
    "acc = pd.DataFrame({'Model': models_name, 'Accuracy': accuracy})\n",
    "acc"
   ]
  },
  {
   "attachments": {},
   "cell_type": "markdown",
   "id": "375a8c73",
   "metadata": {
    "papermill": {
     "duration": 0.014454,
     "end_time": "2022-08-09T15:41:32.518375",
     "exception": false,
     "start_time": "2022-08-09T15:41:32.503921",
     "status": "completed"
    },
    "tags": []
   },
   "source": [
    "# Simple Neural Network"
   ]
  },
  {
   "cell_type": "code",
   "execution_count": 73,
   "id": "0ac2c313",
   "metadata": {},
   "outputs": [],
   "source": [
    "acc = pd.DataFrame({'Model': models_name})"
   ]
  },
  {
   "cell_type": "code",
   "execution_count": 74,
   "id": "b8389976",
   "metadata": {
    "execution": {
     "iopub.execute_input": "2022-08-09T15:41:34.447520Z",
     "iopub.status.busy": "2022-08-09T15:41:34.447068Z",
     "iopub.status.idle": "2022-08-09T15:41:34.459352Z",
     "shell.execute_reply": "2022-08-09T15:41:34.457948Z"
    },
    "papermill": {
     "duration": 0.032761,
     "end_time": "2022-08-09T15:41:34.462099",
     "exception": false,
     "start_time": "2022-08-09T15:41:34.429338",
     "status": "completed"
    },
    "tags": []
   },
   "outputs": [
    {
     "data": {
      "text/html": [
       "<div>\n",
       "<style scoped>\n",
       "    .dataframe tbody tr th:only-of-type {\n",
       "        vertical-align: middle;\n",
       "    }\n",
       "\n",
       "    .dataframe tbody tr th {\n",
       "        vertical-align: top;\n",
       "    }\n",
       "\n",
       "    .dataframe thead th {\n",
       "        text-align: right;\n",
       "    }\n",
       "</style>\n",
       "<table border=\"1\" class=\"dataframe\">\n",
       "  <thead>\n",
       "    <tr style=\"text-align: right;\">\n",
       "      <th></th>\n",
       "      <th>Model</th>\n",
       "    </tr>\n",
       "  </thead>\n",
       "  <tbody>\n",
       "    <tr>\n",
       "      <th>0</th>\n",
       "      <td>SVC</td>\n",
       "    </tr>\n",
       "    <tr>\n",
       "      <th>1</th>\n",
       "      <td>RandomForestClassifier</td>\n",
       "    </tr>\n",
       "    <tr>\n",
       "      <th>2</th>\n",
       "      <td>ADA</td>\n",
       "    </tr>\n",
       "    <tr>\n",
       "      <th>3</th>\n",
       "      <td>KNN</td>\n",
       "    </tr>\n",
       "    <tr>\n",
       "      <th>4</th>\n",
       "      <td>GNB</td>\n",
       "    </tr>\n",
       "    <tr>\n",
       "      <th>5</th>\n",
       "      <td>XGB</td>\n",
       "    </tr>\n",
       "    <tr>\n",
       "      <th>6</th>\n",
       "      <td>LogReg</td>\n",
       "    </tr>\n",
       "    <tr>\n",
       "      <th>7</th>\n",
       "      <td>Perceptron</td>\n",
       "    </tr>\n",
       "  </tbody>\n",
       "</table>\n",
       "</div>"
      ],
      "text/plain": [
       "                    Model\n",
       "0                     SVC\n",
       "1  RandomForestClassifier\n",
       "2                     ADA\n",
       "3                     KNN\n",
       "4                     GNB\n",
       "5                     XGB\n",
       "6                  LogReg\n",
       "7              Perceptron"
      ]
     },
     "execution_count": 74,
     "metadata": {},
     "output_type": "execute_result"
    }
   ],
   "source": [
    "acc"
   ]
  },
  {
   "attachments": {},
   "cell_type": "markdown",
   "id": "d5b0e7a6",
   "metadata": {
    "papermill": {
     "duration": 0.015095,
     "end_time": "2022-08-09T15:41:34.492010",
     "exception": false,
     "start_time": "2022-08-09T15:41:34.476915",
     "status": "completed"
    },
    "tags": []
   },
   "source": [
    "# Simple Neural Network with Dropout and BatchNormalization"
   ]
  },
  {
   "cell_type": "code",
   "execution_count": 75,
   "id": "73d95730",
   "metadata": {},
   "outputs": [
    {
     "name": "stdout",
     "output_type": "stream",
     "text": [
      "Best Validation Accuracy: 0.675000011920929\n"
     ]
    }
   ],
   "source": [
    "\n",
    "# Define the models as a list\n",
    "models = ['SVC', 'RandomForestClassifier', 'ADA', 'KNN', 'GNB', 'XGB', 'LogReg', 'Perceptron']\n",
    "\n",
    "# Create an empty DataFrame\n",
    "acc = pd.DataFrame()\n",
    "\n",
    "# Loop through the models\n",
    "for model_name in models:\n",
    "    # Create the model\n",
    "    model = keras.Sequential([\n",
    "        layers.Dense(units=256, activation='relu', input_shape=[11]),\n",
    "        layers.Dense(units=256, activation='relu'),\n",
    "        layers.Dense(units=1, activation='sigmoid'),\n",
    "    ])\n",
    "\n",
    "    model.compile(\n",
    "        optimizer='adam',\n",
    "        loss='binary_crossentropy',\n",
    "        metrics=['binary_accuracy'],\n",
    "    )\n",
    "\n",
    "    early_stopping = keras.callbacks.EarlyStopping(\n",
    "        patience=10,\n",
    "        min_delta=0.001,\n",
    "        restore_best_weights=True,\n",
    "    )\n",
    "\n",
    "    # Train the model and store the history\n",
    "    history = model.fit(\n",
    "        X_train, y_train,\n",
    "        validation_data=(X_test, y_test),\n",
    "        batch_size=512,\n",
    "        epochs=1000,\n",
    "        callbacks=[early_stopping],\n",
    "        verbose=0,\n",
    "    )\n",
    "\n",
    "    # Store the model accuracy in the DataFrame\n",
    "    history_df = pd.DataFrame(history.history)\n",
    "    nn = {'Model': model_name, 'Accuracy': history_df['val_binary_accuracy'].max()}\n",
    "    acc = pd.concat([acc, pd.DataFrame(nn, index=[0])], ignore_index=True)\n",
    "\n",
    "# Print the best validation accuracy\n",
    "print(\"Best Validation Accuracy:\", acc['Accuracy'].max())\n",
    "\n"
   ]
  },
  {
   "cell_type": "code",
   "execution_count": 76,
   "id": "70b6adfe",
   "metadata": {
    "execution": {
     "iopub.execute_input": "2022-08-09T15:41:34.527804Z",
     "iopub.status.busy": "2022-08-09T15:41:34.527352Z",
     "iopub.status.idle": "2022-08-09T15:41:37.929776Z",
     "shell.execute_reply": "2022-08-09T15:41:37.928217Z"
    },
    "papermill": {
     "duration": 3.424131,
     "end_time": "2022-08-09T15:41:37.932706",
     "exception": false,
     "start_time": "2022-08-09T15:41:34.508575",
     "status": "completed"
    },
    "tags": []
   },
   "outputs": [
    {
     "name": "stdout",
     "output_type": "stream",
     "text": [
      "Best Validation Accuracy: 0.4750\n"
     ]
    }
   ],
   "source": [
    "\n",
    "\n",
    "# Define the model with dropout layers and batch normalization\n",
    "model = keras.Sequential([\n",
    "    layers.Dense(units=1024, activation='relu', input_shape=[11]),\n",
    "    layers.Dropout(0.3),\n",
    "    layers.BatchNormalization(),\n",
    "    layers.Dense(units=1024, activation='relu'),\n",
    "    layers.Dropout(0.3),\n",
    "    layers.BatchNormalization(),\n",
    "    layers.Dense(units=1024, activation='relu'),\n",
    "    layers.Dropout(0.3),\n",
    "    layers.BatchNormalization(),\n",
    "    layers.Dense(units=1, activation='sigmoid'),\n",
    "])\n",
    "\n",
    "model.compile(\n",
    "    optimizer='adam',\n",
    "    loss='binary_crossentropy',\n",
    "    metrics=['binary_accuracy'],\n",
    ")\n",
    "\n",
    "early_stopping = keras.callbacks.EarlyStopping(\n",
    "    patience=10,\n",
    "    min_delta=0.001,\n",
    "    restore_best_weights=True,\n",
    ")\n",
    "\n",
    "history = model.fit(\n",
    "    X_train, y_train,\n",
    "    validation_data=(X_test, y_test),\n",
    "    batch_size=512,\n",
    "    epochs=1000,\n",
    "    callbacks=[early_stopping],\n",
    "    verbose=0,\n",
    ")\n",
    "\n",
    "history_df = pd.DataFrame(history.history)\n",
    "\n",
    "# Create an empty DataFrame\n",
    "acc = pd.DataFrame()\n",
    "\n",
    "# Add the nn_dropout model\n",
    "nn_dropout = {'Model': 'Neural Network w/ Dropout', 'Accuracy': history_df['val_binary_accuracy'].max()}\n",
    "acc = pd.concat([acc, pd.DataFrame(nn_dropout, index=[0])], ignore_index=True)\n",
    "\n",
    "# Print the best validation accuracy\n",
    "print(\"Best Validation Accuracy: {:0.4f}\".format(history_df['val_binary_accuracy'].max()))\n"
   ]
  },
  {
   "attachments": {},
   "cell_type": "markdown",
   "id": "ff34c2f0",
   "metadata": {
    "papermill": {
     "duration": 0.015578,
     "end_time": "2022-08-09T15:41:37.963715",
     "exception": false,
     "start_time": "2022-08-09T15:41:37.948137",
     "status": "completed"
    },
    "tags": []
   },
   "source": [
    "# Value only"
   ]
  },
  {
   "cell_type": "code",
   "execution_count": 77,
   "id": "33fa53a0",
   "metadata": {
    "execution": {
     "iopub.execute_input": "2022-08-09T15:41:37.997183Z",
     "iopub.status.busy": "2022-08-09T15:41:37.996767Z",
     "iopub.status.idle": "2022-08-09T15:41:38.020430Z",
     "shell.execute_reply": "2022-08-09T15:41:38.019126Z"
    },
    "papermill": {
     "duration": 0.043716,
     "end_time": "2022-08-09T15:41:38.023139",
     "exception": false,
     "start_time": "2022-08-09T15:41:37.979423",
     "status": "completed"
    },
    "tags": []
   },
   "outputs": [
    {
     "data": {
      "text/html": [
       "<div>\n",
       "<style scoped>\n",
       "    .dataframe tbody tr th:only-of-type {\n",
       "        vertical-align: middle;\n",
       "    }\n",
       "\n",
       "    .dataframe tbody tr th {\n",
       "        vertical-align: top;\n",
       "    }\n",
       "\n",
       "    .dataframe thead th {\n",
       "        text-align: right;\n",
       "    }\n",
       "</style>\n",
       "<table border=\"1\" class=\"dataframe\">\n",
       "  <thead>\n",
       "    <tr style=\"text-align: right;\">\n",
       "      <th></th>\n",
       "      <th>Symbol</th>\n",
       "      <th>Price/Earnings</th>\n",
       "      <th>Dividend Yield</th>\n",
       "      <th>Earnings/Share</th>\n",
       "      <th>Market Cap</th>\n",
       "      <th>EBITDA</th>\n",
       "      <th>Price/Sales</th>\n",
       "      <th>Price/Book</th>\n",
       "      <th>HighLow</th>\n",
       "      <th>Target</th>\n",
       "      <th>3M Momentum</th>\n",
       "      <th>6M Momentum</th>\n",
       "      <th>12M Momentum</th>\n",
       "    </tr>\n",
       "  </thead>\n",
       "  <tbody>\n",
       "    <tr>\n",
       "      <th>11</th>\n",
       "      <td>A</td>\n",
       "      <td>27.45</td>\n",
       "      <td>0.875698</td>\n",
       "      <td>2.10</td>\n",
       "      <td>2.198461e+10</td>\n",
       "      <td>1.094000e+09</td>\n",
       "      <td>6.493563</td>\n",
       "      <td>4.56</td>\n",
       "      <td>0.396157</td>\n",
       "      <td>1</td>\n",
       "      <td>1.026066</td>\n",
       "      <td>1.179218</td>\n",
       "      <td>1.492398</td>\n",
       "    </tr>\n",
       "    <tr>\n",
       "      <th>26</th>\n",
       "      <td>AAL</td>\n",
       "      <td>9.92</td>\n",
       "      <td>0.778210</td>\n",
       "      <td>3.91</td>\n",
       "      <td>2.459485e+10</td>\n",
       "      <td>5.761000e+09</td>\n",
       "      <td>0.580226</td>\n",
       "      <td>6.03</td>\n",
       "      <td>0.408848</td>\n",
       "      <td>1</td>\n",
       "      <td>0.985543</td>\n",
       "      <td>0.900683</td>\n",
       "      <td>1.766756</td>\n",
       "    </tr>\n",
       "    <tr>\n",
       "      <th>7</th>\n",
       "      <td>AAP</td>\n",
       "      <td>19.54</td>\n",
       "      <td>0.218321</td>\n",
       "      <td>6.19</td>\n",
       "      <td>8.123612e+09</td>\n",
       "      <td>8.539410e+08</td>\n",
       "      <td>1.130106</td>\n",
       "      <td>2.51</td>\n",
       "      <td>0.827693</td>\n",
       "      <td>1</td>\n",
       "      <td>1.058295</td>\n",
       "      <td>1.115179</td>\n",
       "      <td>1.487052</td>\n",
       "    </tr>\n",
       "    <tr>\n",
       "      <th>41</th>\n",
       "      <td>AAPL</td>\n",
       "      <td>16.86</td>\n",
       "      <td>1.579541</td>\n",
       "      <td>9.20</td>\n",
       "      <td>8.095080e+11</td>\n",
       "      <td>7.938600e+10</td>\n",
       "      <td>3.458609</td>\n",
       "      <td>5.66</td>\n",
       "      <td>0.315694</td>\n",
       "      <td>0</td>\n",
       "      <td>1.023639</td>\n",
       "      <td>1.123887</td>\n",
       "      <td>1.369495</td>\n",
       "    </tr>\n",
       "    <tr>\n",
       "      <th>3</th>\n",
       "      <td>ABBV</td>\n",
       "      <td>19.41</td>\n",
       "      <td>2.499560</td>\n",
       "      <td>3.29</td>\n",
       "      <td>1.813863e+11</td>\n",
       "      <td>1.031000e+10</td>\n",
       "      <td>6.291571</td>\n",
       "      <td>26.14</td>\n",
       "      <td>0.606656</td>\n",
       "      <td>0</td>\n",
       "      <td>0.994456</td>\n",
       "      <td>1.001134</td>\n",
       "      <td>1.300963</td>\n",
       "    </tr>\n",
       "  </tbody>\n",
       "</table>\n",
       "</div>"
      ],
      "text/plain": [
       "   Symbol  Price/Earnings  Dividend Yield  Earnings/Share    Market Cap   \n",
       "11      A           27.45        0.875698            2.10  2.198461e+10  \\\n",
       "26    AAL            9.92        0.778210            3.91  2.459485e+10   \n",
       "7     AAP           19.54        0.218321            6.19  8.123612e+09   \n",
       "41   AAPL           16.86        1.579541            9.20  8.095080e+11   \n",
       "3    ABBV           19.41        2.499560            3.29  1.813863e+11   \n",
       "\n",
       "          EBITDA  Price/Sales  Price/Book   HighLow  Target  3M Momentum   \n",
       "11  1.094000e+09     6.493563        4.56  0.396157       1     1.026066  \\\n",
       "26  5.761000e+09     0.580226        6.03  0.408848       1     0.985543   \n",
       "7   8.539410e+08     1.130106        2.51  0.827693       1     1.058295   \n",
       "41  7.938600e+10     3.458609        5.66  0.315694       0     1.023639   \n",
       "3   1.031000e+10     6.291571       26.14  0.606656       0     0.994456   \n",
       "\n",
       "    6M Momentum  12M Momentum  \n",
       "11     1.179218      1.492398  \n",
       "26     0.900683      1.766756  \n",
       "7      1.115179      1.487052  \n",
       "41     1.123887      1.369495  \n",
       "3      1.001134      1.300963  "
      ]
     },
     "execution_count": 77,
     "metadata": {},
     "output_type": "execute_result"
    }
   ],
   "source": [
    "df.head()"
   ]
  },
  {
   "cell_type": "code",
   "execution_count": 78,
   "id": "ab467157",
   "metadata": {
    "execution": {
     "iopub.execute_input": "2022-08-09T15:41:38.055597Z",
     "iopub.status.busy": "2022-08-09T15:41:38.055202Z",
     "iopub.status.idle": "2022-08-09T15:41:38.064399Z",
     "shell.execute_reply": "2022-08-09T15:41:38.063000Z"
    },
    "papermill": {
     "duration": 0.028921,
     "end_time": "2022-08-09T15:41:38.067187",
     "exception": false,
     "start_time": "2022-08-09T15:41:38.038266",
     "status": "completed"
    },
    "tags": []
   },
   "outputs": [],
   "source": [
    "Xv = df.drop(['Target','Symbol', '3M Momentum', '6M Momentum', '12M Momentum'], axis=1)\n",
    "yv = df['Target']\n",
    "\n",
    "Xv_train, Xv_test, yv_train, yv_test = train_test_split(Xv, yv, test_size=0.2, random_state=42)"
   ]
  },
  {
   "attachments": {},
   "cell_type": "markdown",
   "id": "a49b73d0",
   "metadata": {
    "papermill": {
     "duration": 0.014849,
     "end_time": "2022-08-09T15:41:38.097186",
     "exception": false,
     "start_time": "2022-08-09T15:41:38.082337",
     "status": "completed"
    },
    "tags": []
   },
   "source": [
    "# Value only models"
   ]
  },
  {
   "cell_type": "code",
   "execution_count": 79,
   "id": "7a917e5b",
   "metadata": {
    "execution": {
     "iopub.execute_input": "2022-08-09T15:41:38.130283Z",
     "iopub.status.busy": "2022-08-09T15:41:38.129477Z",
     "iopub.status.idle": "2022-08-09T15:41:45.287940Z",
     "shell.execute_reply": "2022-08-09T15:41:45.286710Z"
    },
    "papermill": {
     "duration": 7.177928,
     "end_time": "2022-08-09T15:41:45.290485",
     "exception": false,
     "start_time": "2022-08-09T15:41:38.112557",
     "status": "completed"
    },
    "tags": []
   },
   "outputs": [
    {
     "name": "stdout",
     "output_type": "stream",
     "text": [
      "SVC: 0.6520161290322581\n",
      "RandomForestClassifier: 0.6392137096774194\n",
      "ADA: 0.5859879032258064\n",
      "KNN: 0.5394153225806452\n",
      "GNB: 0.6237903225806452\n",
      "XGB: 0.5921370967741936\n",
      "LogReg: 0.6270161290322581\n",
      "Perceptron: 0.5707661290322581\n"
     ]
    }
   ],
   "source": [
    "# Instantiate the estimator objects\n",
    "estimators = [\n",
    "    SVC(),\n",
    "    RandomForestClassifier(),\n",
    "    AdaBoostClassifier(),\n",
    "    KNeighborsClassifier(),\n",
    "    GaussianNB(),\n",
    "    XGBClassifier(),\n",
    "    LogisticRegression(),\n",
    "    Perceptron()\n",
    "]\n",
    "\n",
    "value_accuracy = []\n",
    "for estimator in estimators:\n",
    "    cross_val = cross_val_score(estimator, Xv_train, yv_train, scoring='accuracy',\n",
    "                                cv=StratifiedKFold(10)).mean()\n",
    "    value_accuracy.append(cross_val)\n",
    "\n",
    "models_name = ['SVC', 'RandomForestClassifier', 'ADA',\n",
    "               'KNN', 'GNB', 'XGB', 'LogReg', 'Perceptron']\n",
    "\n",
    "for name, accuracy in zip(models_name, value_accuracy):\n",
    "    print(f\"{name}: {accuracy}\")\n"
   ]
  },
  {
   "attachments": {},
   "cell_type": "markdown",
   "id": "48ebdacc",
   "metadata": {
    "papermill": {
     "duration": 0.014763,
     "end_time": "2022-08-09T15:41:46.952252",
     "exception": false,
     "start_time": "2022-08-09T15:41:46.937489",
     "status": "completed"
    },
    "tags": []
   },
   "source": [
    "# Simple Neural Network with Dropout and BatchNormalization"
   ]
  },
  {
   "cell_type": "code",
   "execution_count": 80,
   "id": "22d6d2ef",
   "metadata": {
    "execution": {
     "iopub.execute_input": "2022-08-09T15:41:46.985573Z",
     "iopub.status.busy": "2022-08-09T15:41:46.985091Z",
     "iopub.status.idle": "2022-08-09T15:41:50.469506Z",
     "shell.execute_reply": "2022-08-09T15:41:50.467547Z"
    },
    "papermill": {
     "duration": 3.507283,
     "end_time": "2022-08-09T15:41:50.474957",
     "exception": false,
     "start_time": "2022-08-09T15:41:46.967674",
     "status": "completed"
    },
    "tags": []
   },
   "outputs": [
    {
     "name": "stdout",
     "output_type": "stream",
     "text": [
      "Best Validation Accuracy: 0.6750\n"
     ]
    }
   ],
   "source": [
    "model = keras.Sequential([\n",
    "    layers.Dense(units=1024, activation='relu', input_shape=[8]),\n",
    "    layers.Dropout(0.3),\n",
    "    layers.BatchNormalization(),\n",
    "    layers.Dense(units=1024, activation='relu'),\n",
    "    layers.Dropout(0.3),\n",
    "    layers.BatchNormalization(),\n",
    "    layers.Dense(units=1024, activation='relu'),\n",
    "    layers.Dropout(0.3),\n",
    "    layers.BatchNormalization(),\n",
    "    layers.Dense(units=1, activation='sigmoid'),\n",
    "])\n",
    "\n",
    "model.compile(\n",
    "    optimizer='adam',\n",
    "    loss='binary_crossentropy',\n",
    "    metrics=['binary_accuracy'],\n",
    ")\n",
    "\n",
    "early_stopping = keras.callbacks.EarlyStopping(\n",
    "    patience=10,\n",
    "    min_delta=0.001,\n",
    "    restore_best_weights=True,\n",
    ")\n",
    "\n",
    "history = model.fit(\n",
    "    Xv_train, yv_train,\n",
    "    validation_data=(Xv_test, yv_test),\n",
    "    batch_size=512,\n",
    "    epochs=1000,\n",
    "    callbacks=[early_stopping],\n",
    "    verbose=0,\n",
    ")\n",
    "value_acc = pd.DataFrame()\n",
    "\n",
    "history_df = pd.DataFrame(history.history)\n",
    "\n",
    "value_nn2 = pd.Series({'Model': 'Neural Network w/ Dropout', 'Value Accuracy': (history_df['val_binary_accuracy'].max())})\n",
    "\n",
    "value_acc = pd.concat([value_acc, value_nn2], ignore_index=True)\n",
    "\n",
    "print((\"Best Validation Accuracy: {:0.4f}\")\\\n",
    "      .format(history_df['val_binary_accuracy'].max()))\n",
    "\n",
    "\n"
   ]
  },
  {
   "attachments": {},
   "cell_type": "markdown",
   "id": "8fabb726",
   "metadata": {
    "papermill": {
     "duration": 0.015712,
     "end_time": "2022-08-09T15:41:50.506534",
     "exception": false,
     "start_time": "2022-08-09T15:41:50.490822",
     "status": "completed"
    },
    "tags": []
   },
   "source": [
    "# Momentum only"
   ]
  },
  {
   "cell_type": "code",
   "execution_count": 81,
   "id": "ab8ee8d2",
   "metadata": {
    "execution": {
     "iopub.execute_input": "2022-08-09T15:41:50.539406Z",
     "iopub.status.busy": "2022-08-09T15:41:50.539011Z",
     "iopub.status.idle": "2022-08-09T15:41:50.562425Z",
     "shell.execute_reply": "2022-08-09T15:41:50.561130Z"
    },
    "papermill": {
     "duration": 0.042868,
     "end_time": "2022-08-09T15:41:50.565134",
     "exception": false,
     "start_time": "2022-08-09T15:41:50.522266",
     "status": "completed"
    },
    "tags": []
   },
   "outputs": [
    {
     "data": {
      "text/html": [
       "<div>\n",
       "<style scoped>\n",
       "    .dataframe tbody tr th:only-of-type {\n",
       "        vertical-align: middle;\n",
       "    }\n",
       "\n",
       "    .dataframe tbody tr th {\n",
       "        vertical-align: top;\n",
       "    }\n",
       "\n",
       "    .dataframe thead th {\n",
       "        text-align: right;\n",
       "    }\n",
       "</style>\n",
       "<table border=\"1\" class=\"dataframe\">\n",
       "  <thead>\n",
       "    <tr style=\"text-align: right;\">\n",
       "      <th></th>\n",
       "      <th>Symbol</th>\n",
       "      <th>Price/Earnings</th>\n",
       "      <th>Dividend Yield</th>\n",
       "      <th>Earnings/Share</th>\n",
       "      <th>Market Cap</th>\n",
       "      <th>EBITDA</th>\n",
       "      <th>Price/Sales</th>\n",
       "      <th>Price/Book</th>\n",
       "      <th>HighLow</th>\n",
       "      <th>Target</th>\n",
       "      <th>3M Momentum</th>\n",
       "      <th>6M Momentum</th>\n",
       "      <th>12M Momentum</th>\n",
       "    </tr>\n",
       "  </thead>\n",
       "  <tbody>\n",
       "    <tr>\n",
       "      <th>11</th>\n",
       "      <td>A</td>\n",
       "      <td>27.45</td>\n",
       "      <td>0.875698</td>\n",
       "      <td>2.10</td>\n",
       "      <td>2.198461e+10</td>\n",
       "      <td>1.094000e+09</td>\n",
       "      <td>6.493563</td>\n",
       "      <td>4.56</td>\n",
       "      <td>0.396157</td>\n",
       "      <td>1</td>\n",
       "      <td>1.026066</td>\n",
       "      <td>1.179218</td>\n",
       "      <td>1.492398</td>\n",
       "    </tr>\n",
       "    <tr>\n",
       "      <th>26</th>\n",
       "      <td>AAL</td>\n",
       "      <td>9.92</td>\n",
       "      <td>0.778210</td>\n",
       "      <td>3.91</td>\n",
       "      <td>2.459485e+10</td>\n",
       "      <td>5.761000e+09</td>\n",
       "      <td>0.580226</td>\n",
       "      <td>6.03</td>\n",
       "      <td>0.408848</td>\n",
       "      <td>1</td>\n",
       "      <td>0.985543</td>\n",
       "      <td>0.900683</td>\n",
       "      <td>1.766756</td>\n",
       "    </tr>\n",
       "    <tr>\n",
       "      <th>7</th>\n",
       "      <td>AAP</td>\n",
       "      <td>19.54</td>\n",
       "      <td>0.218321</td>\n",
       "      <td>6.19</td>\n",
       "      <td>8.123612e+09</td>\n",
       "      <td>8.539410e+08</td>\n",
       "      <td>1.130106</td>\n",
       "      <td>2.51</td>\n",
       "      <td>0.827693</td>\n",
       "      <td>1</td>\n",
       "      <td>1.058295</td>\n",
       "      <td>1.115179</td>\n",
       "      <td>1.487052</td>\n",
       "    </tr>\n",
       "    <tr>\n",
       "      <th>41</th>\n",
       "      <td>AAPL</td>\n",
       "      <td>16.86</td>\n",
       "      <td>1.579541</td>\n",
       "      <td>9.20</td>\n",
       "      <td>8.095080e+11</td>\n",
       "      <td>7.938600e+10</td>\n",
       "      <td>3.458609</td>\n",
       "      <td>5.66</td>\n",
       "      <td>0.315694</td>\n",
       "      <td>0</td>\n",
       "      <td>1.023639</td>\n",
       "      <td>1.123887</td>\n",
       "      <td>1.369495</td>\n",
       "    </tr>\n",
       "    <tr>\n",
       "      <th>3</th>\n",
       "      <td>ABBV</td>\n",
       "      <td>19.41</td>\n",
       "      <td>2.499560</td>\n",
       "      <td>3.29</td>\n",
       "      <td>1.813863e+11</td>\n",
       "      <td>1.031000e+10</td>\n",
       "      <td>6.291571</td>\n",
       "      <td>26.14</td>\n",
       "      <td>0.606656</td>\n",
       "      <td>0</td>\n",
       "      <td>0.994456</td>\n",
       "      <td>1.001134</td>\n",
       "      <td>1.300963</td>\n",
       "    </tr>\n",
       "  </tbody>\n",
       "</table>\n",
       "</div>"
      ],
      "text/plain": [
       "   Symbol  Price/Earnings  Dividend Yield  Earnings/Share    Market Cap   \n",
       "11      A           27.45        0.875698            2.10  2.198461e+10  \\\n",
       "26    AAL            9.92        0.778210            3.91  2.459485e+10   \n",
       "7     AAP           19.54        0.218321            6.19  8.123612e+09   \n",
       "41   AAPL           16.86        1.579541            9.20  8.095080e+11   \n",
       "3    ABBV           19.41        2.499560            3.29  1.813863e+11   \n",
       "\n",
       "          EBITDA  Price/Sales  Price/Book   HighLow  Target  3M Momentum   \n",
       "11  1.094000e+09     6.493563        4.56  0.396157       1     1.026066  \\\n",
       "26  5.761000e+09     0.580226        6.03  0.408848       1     0.985543   \n",
       "7   8.539410e+08     1.130106        2.51  0.827693       1     1.058295   \n",
       "41  7.938600e+10     3.458609        5.66  0.315694       0     1.023639   \n",
       "3   1.031000e+10     6.291571       26.14  0.606656       0     0.994456   \n",
       "\n",
       "    6M Momentum  12M Momentum  \n",
       "11     1.179218      1.492398  \n",
       "26     0.900683      1.766756  \n",
       "7      1.115179      1.487052  \n",
       "41     1.123887      1.369495  \n",
       "3      1.001134      1.300963  "
      ]
     },
     "execution_count": 81,
     "metadata": {},
     "output_type": "execute_result"
    }
   ],
   "source": [
    "df.head()"
   ]
  },
  {
   "cell_type": "code",
   "execution_count": 82,
   "id": "f662d211",
   "metadata": {
    "execution": {
     "iopub.execute_input": "2022-08-09T15:41:50.597984Z",
     "iopub.status.busy": "2022-08-09T15:41:50.597531Z",
     "iopub.status.idle": "2022-08-09T15:41:50.606784Z",
     "shell.execute_reply": "2022-08-09T15:41:50.605477Z"
    },
    "papermill": {
     "duration": 0.02851,
     "end_time": "2022-08-09T15:41:50.609327",
     "exception": false,
     "start_time": "2022-08-09T15:41:50.580817",
     "status": "completed"
    },
    "tags": []
   },
   "outputs": [],
   "source": [
    "Xm = df.drop(['Target','Symbol', 'Price/Earnings', 'Dividend Yield', 'Earnings/Share', 'EBITDA', 'Price/Sales', 'Price/Book', 'HighLow'], axis=1)\n",
    "ym = df['Target']\n",
    "\n",
    "from sklearn.model_selection import train_test_split\n",
    "Xm_train, Xm_test, ym_train, ym_test = train_test_split(Xm, ym, test_size=0.2, random_state=42)"
   ]
  },
  {
   "attachments": {},
   "cell_type": "markdown",
   "id": "e03d2e82",
   "metadata": {
    "papermill": {
     "duration": 0.015004,
     "end_time": "2022-08-09T15:41:50.639874",
     "exception": false,
     "start_time": "2022-08-09T15:41:50.624870",
     "status": "completed"
    },
    "tags": []
   },
   "source": [
    "# Momentum models"
   ]
  },
  {
   "cell_type": "code",
   "execution_count": 83,
   "id": "c2b0a8b0",
   "metadata": {
    "execution": {
     "iopub.execute_input": "2022-08-09T15:41:50.673335Z",
     "iopub.status.busy": "2022-08-09T15:41:50.672931Z",
     "iopub.status.idle": "2022-08-09T15:41:58.049419Z",
     "shell.execute_reply": "2022-08-09T15:41:58.048109Z"
    },
    "papermill": {
     "duration": 7.396523,
     "end_time": "2022-08-09T15:41:58.051936",
     "exception": false,
     "start_time": "2022-08-09T15:41:50.655413",
     "status": "completed"
    },
    "tags": []
   },
   "outputs": [],
   "source": [
    "models = [\n",
    "    SVC(),\n",
    "    RandomForestClassifier(),\n",
    "    AdaBoostClassifier(),\n",
    "    KNeighborsClassifier(),\n",
    "    GaussianNB(),\n",
    "    XGBClassifier(),\n",
    "    LogisticRegression(),\n",
    "    Perceptron()\n",
    "]\n",
    "\n",
    "momentum_accuracy = []\n",
    "models_name = ['SVC', 'RandomForestClassifier', 'ADA', 'KNN', 'GNB', 'XGB', 'LogReg', 'Perceptron']\n",
    "\n",
    "for model in models:\n",
    "    cross_val = cross_val_score(model, Xm_train, ym_train, scoring='accuracy', cv=StratifiedKFold(10)).mean()\n",
    "    momentum_accuracy.append(cross_val)\n",
    "\n",
    "momentum_acc = pd.DataFrame({'Model': models_name, 'Momentum Accuracy': momentum_accuracy})\n"
   ]
  },
  {
   "attachments": {},
   "cell_type": "markdown",
   "id": "9932ec92",
   "metadata": {
    "papermill": {
     "duration": 0.016499,
     "end_time": "2022-08-09T15:41:58.084655",
     "exception": false,
     "start_time": "2022-08-09T15:41:58.068156",
     "status": "completed"
    },
    "tags": []
   },
   "source": [
    "# Simple Neural Network"
   ]
  },
  {
   "cell_type": "code",
   "execution_count": 84,
   "id": "0b52c9b0",
   "metadata": {
    "execution": {
     "iopub.execute_input": "2022-08-09T15:41:58.119907Z",
     "iopub.status.busy": "2022-08-09T15:41:58.119143Z",
     "iopub.status.idle": "2022-08-09T15:41:59.715702Z",
     "shell.execute_reply": "2022-08-09T15:41:59.714124Z"
    },
    "papermill": {
     "duration": 1.617883,
     "end_time": "2022-08-09T15:41:59.718785",
     "exception": false,
     "start_time": "2022-08-09T15:41:58.100902",
     "status": "completed"
    },
    "tags": []
   },
   "outputs": [
    {
     "name": "stdout",
     "output_type": "stream",
     "text": [
      "Best Validation Accuracy: 0.6750\n"
     ]
    }
   ],
   "source": [
    "model = keras.Sequential([\n",
    "    layers.Dense(units=256, activation='relu', input_shape=[4]),\n",
    "    layers.Dense(units=256, activation='relu'),\n",
    "    layers.Dense(units=1, activation='sigmoid'),\n",
    "])\n",
    "\n",
    "model.compile(\n",
    "    optimizer='adam',\n",
    "    loss='binary_crossentropy',\n",
    "    metrics=['binary_accuracy'],\n",
    ")\n",
    "\n",
    "early_stopping = keras.callbacks.EarlyStopping(\n",
    "    patience=10,\n",
    "    min_delta=0.001,\n",
    "    restore_best_weights=True,\n",
    ")\n",
    "\n",
    "history = model.fit(\n",
    "    Xm_train, ym_train,\n",
    "    validation_data=(Xm_test, ym_test),\n",
    "    batch_size=512,\n",
    "    epochs=1000,\n",
    "    callbacks=[early_stopping],\n",
    "    verbose=0,\n",
    ")\n",
    "\n",
    "history_df = pd.DataFrame(history.history)\n",
    "\n",
    "momentum_nn = pd.Series({'Model': 'Neural Network', 'Momentum Accuracy': (history_df['val_binary_accuracy'].max())})\n",
    "\n",
    "momentum_acc = pd.concat([momentum_acc, momentum_nn], ignore_index=True)\n",
    "\n",
    "print((\"Best Validation Accuracy: {:0.4f}\")\\\n",
    "      .format(history_df['val_binary_accuracy'].max()))\n"
   ]
  },
  {
   "attachments": {},
   "cell_type": "markdown",
   "id": "a98c8c2e",
   "metadata": {
    "papermill": {
     "duration": 0.017353,
     "end_time": "2022-08-09T15:41:59.753077",
     "exception": false,
     "start_time": "2022-08-09T15:41:59.735724",
     "status": "completed"
    },
    "tags": []
   },
   "source": [
    "# Simple Neural Network with Dropout and BatchNormalization"
   ]
  },
  {
   "cell_type": "code",
   "execution_count": 85,
   "id": "241d1f44",
   "metadata": {
    "execution": {
     "iopub.execute_input": "2022-08-09T15:41:59.788970Z",
     "iopub.status.busy": "2022-08-09T15:41:59.788529Z",
     "iopub.status.idle": "2022-08-09T15:42:03.902335Z",
     "shell.execute_reply": "2022-08-09T15:42:03.900589Z"
    },
    "papermill": {
     "duration": 4.136318,
     "end_time": "2022-08-09T15:42:03.905826",
     "exception": false,
     "start_time": "2022-08-09T15:41:59.769508",
     "status": "completed"
    },
    "tags": []
   },
   "outputs": [
    {
     "name": "stdout",
     "output_type": "stream",
     "text": [
      "Best Validation Accuracy: 0.6000\n"
     ]
    }
   ],
   "source": [
    "model = keras.Sequential([\n",
    "    layers.Dense(units=1024, activation='relu', input_shape=[4]),\n",
    "    layers.Dropout(0.3),\n",
    "    layers.BatchNormalization(),\n",
    "    layers.Dense(units=1024, activation='relu'),\n",
    "    layers.Dropout(0.3),\n",
    "    layers.BatchNormalization(),\n",
    "    layers.Dense(units=1024, activation='relu'),\n",
    "    layers.Dropout(0.3),\n",
    "    layers.BatchNormalization(),\n",
    "    layers.Dense(units=1, activation='sigmoid'),\n",
    "])\n",
    "\n",
    "model.compile(\n",
    "    optimizer='adam',\n",
    "    loss='binary_crossentropy',\n",
    "    metrics=['binary_accuracy'],\n",
    ")\n",
    "\n",
    "early_stopping = keras.callbacks.EarlyStopping(\n",
    "    patience=10,\n",
    "    min_delta=0.001,\n",
    "    restore_best_weights=True,\n",
    ")\n",
    "\n",
    "history = model.fit(\n",
    "    Xm_train, ym_train,\n",
    "    validation_data=(Xm_test, ym_test),\n",
    "    batch_size=512,\n",
    "    epochs=1000,\n",
    "    callbacks=[early_stopping],\n",
    "    verbose=0,\n",
    ")\n",
    "\n",
    "history_df = pd.DataFrame(history.history)\n",
    "\n",
    "momentum_nn2 = pd.Series({'Model': 'Neural Network w/ Dropout', 'Momentum Accuracy': (history_df['val_binary_accuracy'].max())})\n",
    "\n",
    "momentum_acc = pd.concat([momentum_acc, momentum_nn2], ignore_index=True)\n",
    "\n",
    "print((\"Best Validation Accuracy: {:0.4f}\")\\\n",
    "      .format(history_df['val_binary_accuracy'].max()))\n"
   ]
  },
  {
   "cell_type": "code",
   "execution_count": 86,
   "id": "51d7938a",
   "metadata": {
    "execution": {
     "iopub.execute_input": "2022-08-09T15:42:03.943263Z",
     "iopub.status.busy": "2022-08-09T15:42:03.941893Z",
     "iopub.status.idle": "2022-08-09T15:42:03.958669Z",
     "shell.execute_reply": "2022-08-09T15:42:03.957545Z"
    },
    "papermill": {
     "duration": 0.037022,
     "end_time": "2022-08-09T15:42:03.961067",
     "exception": false,
     "start_time": "2022-08-09T15:42:03.924045",
     "status": "completed"
    },
    "tags": []
   },
   "outputs": [
    {
     "name": "stdout",
     "output_type": "stream",
     "text": [
      "   Train Accuracy\n",
      "0          0.6670\n",
      "1          0.4250\n",
      "2          0.6750\n",
      "3          0.6125\n"
     ]
    }
   ],
   "source": [
    "import pandas as pd\n",
    "\n",
    "values = [0.667, 0.425, 0.675, 0.6125]\n",
    "\n",
    "df = pd.DataFrame(values, columns=['Train Accuracy'])\n",
    "\n",
    "print(df.to_string())\n",
    "\n"
   ]
  }
 ],
 "metadata": {
  "kernelspec": {
   "display_name": "Python 3",
   "language": "python",
   "name": "python3"
  },
  "language_info": {
   "codemirror_mode": {
    "name": "ipython",
    "version": 3
   },
   "file_extension": ".py",
   "mimetype": "text/x-python",
   "name": "python",
   "nbconvert_exporter": "python",
   "pygments_lexer": "ipython3",
   "version": "3.9.6"
  },
  "papermill": {
   "default_parameters": {},
   "duration": 85.284696,
   "end_time": "2022-08-09T15:42:07.530061",
   "environment_variables": {},
   "exception": null,
   "input_path": "__notebook__.ipynb",
   "output_path": "__notebook__.ipynb",
   "parameters": {},
   "start_time": "2022-08-09T15:40:42.245365",
   "version": "2.3.4"
  }
 },
 "nbformat": 4,
 "nbformat_minor": 5
}
